{
 "cells": [
  {
   "cell_type": "code",
   "execution_count": 1,
   "metadata": {},
   "outputs": [],
   "source": [
    "import numpy as np\n",
    "import matplotlib.pyplot as plt\n",
    "import os"
   ]
  },
  {
   "cell_type": "code",
   "execution_count": 2,
   "metadata": {},
   "outputs": [
    {
     "name": "stdout",
     "output_type": "stream",
     "text": [
      "(21, 8)\n",
      "[3.16227766e-03 0.00000000e+00 1.00000000e+01 1.00000000e-02\n",
      " 2.00000000e+00 1.00000000e+00 5.00000000e+00 9.81500000e-01]\n"
     ]
    }
   ],
   "source": [
    "def gather_record(key=''):\n",
    "    filenames = os.listdir()\n",
    "    record = []\n",
    "    for fn in filenames:\n",
    "        if '.csv' in fn and key in fn:\n",
    "            tmp_record = np.loadtxt(fn,delimiter=',')\n",
    "            tmp_record = tmp_record[tmp_record[:,-1]>0]\n",
    "            record.append(tmp_record)\n",
    "    record = np.concatenate(record,axis=0)\n",
    "    return record\n",
    "record = gather_record('4_multi')\n",
    "print(record.shape)\n",
    "print(record[np.argmax(record[:,-1])])"
   ]
  },
  {
   "cell_type": "code",
   "execution_count": 3,
   "metadata": {},
   "outputs": [
    {
     "name": "stdout",
     "output_type": "stream",
     "text": [
      "['lr', 'norm_flag', 'gamma', 'lam', 'max_type', 'optim_type', 'head_cnt']\n",
      "{'lr': 0, 'norm_flag': 1, 'gamma': 2, 'lam': 3, 'max_type': 4, 'optim_type': 5, 'head_cnt': 6}\n"
     ]
    }
   ],
   "source": [
    "index2name = ['lr','norm_flag','gamma','lam','max_type','optim_type','head_cnt']\n",
    "name2index = {n:i for i,n in enumerate(index2name)}\n",
    "print(index2name)\n",
    "print(name2index)"
   ]
  },
  {
   "cell_type": "code",
   "execution_count": 8,
   "metadata": {},
   "outputs": [
    {
     "name": "stdout",
     "output_type": "stream",
     "text": [
      "4 [0, 1, 2.0]\n"
     ]
    },
    {
     "data": {
      "text/plain": [
       "{'whiskers': [<matplotlib.lines.Line2D at 0x7f87cf6e50f0>,\n",
       "  <matplotlib.lines.Line2D at 0x7f87cf6e5438>,\n",
       "  <matplotlib.lines.Line2D at 0x7f87cf6f0860>,\n",
       "  <matplotlib.lines.Line2D at 0x7f87cf6f0ba8>,\n",
       "  <matplotlib.lines.Line2D at 0x7f87cf6faf98>,\n",
       "  <matplotlib.lines.Line2D at 0x7f87cf704320>],\n",
       " 'caps': [<matplotlib.lines.Line2D at 0x7f87cf6e5780>,\n",
       "  <matplotlib.lines.Line2D at 0x7f87cf6e5ac8>,\n",
       "  <matplotlib.lines.Line2D at 0x7f87cf6f0ef0>,\n",
       "  <matplotlib.lines.Line2D at 0x7f87cf6fa278>,\n",
       "  <matplotlib.lines.Line2D at 0x7f87cf704668>,\n",
       "  <matplotlib.lines.Line2D at 0x7f87cf7049b0>],\n",
       " 'boxes': [<matplotlib.lines.Line2D at 0x7f87cf6d8f60>,\n",
       "  <matplotlib.lines.Line2D at 0x7f87cf6f0518>,\n",
       "  <matplotlib.lines.Line2D at 0x7f87cf6fac18>],\n",
       " 'medians': [<matplotlib.lines.Line2D at 0x7f87cf6e5e10>,\n",
       "  <matplotlib.lines.Line2D at 0x7f87cf6fa5c0>,\n",
       "  <matplotlib.lines.Line2D at 0x7f87cf704cf8>],\n",
       " 'fliers': [<matplotlib.lines.Line2D at 0x7f87cf6f0198>,\n",
       "  <matplotlib.lines.Line2D at 0x7f87cf6fa908>,\n",
       "  <matplotlib.lines.Line2D at 0x7f87cf70e080>],\n",
       " 'means': []}"
      ]
     },
     "execution_count": 8,
     "metadata": {},
     "output_type": "execute_result"
    },
    {
     "data": {
      "image/png": "[encoded data removed]",
      "text/plain": [
       "<Figure size 432x288 with 1 Axes>"
      ]
     },
     "metadata": {
      "needs_background": "light"
     },
     "output_type": "display_data"
    }
   ],
   "source": [
    "#filtered out low accuracies\n",
    "frecord = record[record[:,-1]>=0.95]\n",
    "#box plot\n",
    "index = name2index['max_type']\n",
    "values = [0,1]+list(set(record[:,index]))\n",
    "print(index,values)\n",
    "values.sort()\n",
    "plt.boxplot([frecord[frecord[:,index]==v][:,-1] for v in values],labels=['softmax','sparsemax','gfusedmax'])"
   ]
  },
  {
   "cell_type": "code",
   "execution_count": 9,
   "metadata": {},
   "outputs": [
    {
     "name": "stdout",
     "output_type": "stream",
     "text": [
      "(3, 8)\n"
     ]
    },
    {
     "ename": "ValueError",
     "evalue": "Dimensions of labels and X must be compatible",
     "output_type": "error",
     "traceback": [
      "\u001b[0;31m---------------------------------------------------------------------------\u001b[0m",
      "\u001b[0;31mValueError\u001b[0m                                Traceback (most recent call last)",
      "\u001b[0;32m<ipython-input-9-545563b2d4c5>\u001b[0m in \u001b[0;36m<module>\u001b[0;34m\u001b[0m\n\u001b[1;32m      8\u001b[0m \u001b[0mvalues\u001b[0m \u001b[0;34m=\u001b[0m \u001b[0mlist\u001b[0m\u001b[0;34m(\u001b[0m\u001b[0mset\u001b[0m\u001b[0;34m(\u001b[0m\u001b[0mfrecord\u001b[0m\u001b[0;34m[\u001b[0m\u001b[0;34m:\u001b[0m\u001b[0;34m,\u001b[0m\u001b[0mindex\u001b[0m\u001b[0;34m]\u001b[0m\u001b[0;34m)\u001b[0m\u001b[0;34m)\u001b[0m\u001b[0;34m\u001b[0m\u001b[0;34m\u001b[0m\u001b[0m\n\u001b[1;32m      9\u001b[0m \u001b[0mvalues\u001b[0m\u001b[0;34m.\u001b[0m\u001b[0msort\u001b[0m\u001b[0;34m(\u001b[0m\u001b[0;34m)\u001b[0m\u001b[0;34m\u001b[0m\u001b[0;34m\u001b[0m\u001b[0m\n\u001b[0;32m---> 10\u001b[0;31m \u001b[0mplt\u001b[0m\u001b[0;34m.\u001b[0m\u001b[0mboxplot\u001b[0m\u001b[0;34m(\u001b[0m\u001b[0;34m[\u001b[0m\u001b[0mfrecord\u001b[0m\u001b[0;34m[\u001b[0m\u001b[0mfrecord\u001b[0m\u001b[0;34m[\u001b[0m\u001b[0;34m:\u001b[0m\u001b[0;34m,\u001b[0m\u001b[0mindex\u001b[0m\u001b[0;34m]\u001b[0m\u001b[0;34m==\u001b[0m\u001b[0mv\u001b[0m\u001b[0;34m]\u001b[0m\u001b[0;34m[\u001b[0m\u001b[0;34m:\u001b[0m\u001b[0;34m,\u001b[0m\u001b[0;34m-\u001b[0m\u001b[0;36m1\u001b[0m\u001b[0;34m]\u001b[0m \u001b[0;32mfor\u001b[0m \u001b[0mv\u001b[0m \u001b[0;32min\u001b[0m \u001b[0mvalues\u001b[0m\u001b[0;34m]\u001b[0m\u001b[0;34m,\u001b[0m\u001b[0mlabels\u001b[0m\u001b[0;34m=\u001b[0m\u001b[0;34m[\u001b[0m\u001b[0;34m'no-norm'\u001b[0m\u001b[0;34m,\u001b[0m\u001b[0;34m'with-norm'\u001b[0m\u001b[0;34m]\u001b[0m\u001b[0;34m)\u001b[0m\u001b[0;34m\u001b[0m\u001b[0;34m\u001b[0m\u001b[0m\n\u001b[0m",
      "\u001b[0;32m~/.local/lib/python3.6/site-packages/matplotlib/pyplot.py\u001b[0m in \u001b[0;36mboxplot\u001b[0;34m(x, notch, sym, vert, whis, positions, widths, patch_artist, bootstrap, usermedians, conf_intervals, meanline, showmeans, showcaps, showbox, showfliers, boxprops, labels, flierprops, medianprops, meanprops, capprops, whiskerprops, manage_xticks, autorange, zorder, data)\u001b[0m\n\u001b[1;32m   2496\u001b[0m         \u001b[0mwhiskerprops\u001b[0m\u001b[0;34m=\u001b[0m\u001b[0mwhiskerprops\u001b[0m\u001b[0;34m,\u001b[0m \u001b[0mmanage_xticks\u001b[0m\u001b[0;34m=\u001b[0m\u001b[0mmanage_xticks\u001b[0m\u001b[0;34m,\u001b[0m\u001b[0;34m\u001b[0m\u001b[0;34m\u001b[0m\u001b[0m\n\u001b[1;32m   2497\u001b[0m         autorange=autorange, zorder=zorder, **({\"data\": data} if data\n\u001b[0;32m-> 2498\u001b[0;31m         is not None else {}))\n\u001b[0m\u001b[1;32m   2499\u001b[0m \u001b[0;34m\u001b[0m\u001b[0m\n\u001b[1;32m   2500\u001b[0m \u001b[0;34m\u001b[0m\u001b[0m\n",
      "\u001b[0;32m~/.local/lib/python3.6/site-packages/matplotlib/__init__.py\u001b[0m in \u001b[0;36minner\u001b[0;34m(ax, data, *args, **kwargs)\u001b[0m\n\u001b[1;32m   1808\u001b[0m                         \u001b[0;34m\"the Matplotlib list!)\"\u001b[0m \u001b[0;34m%\u001b[0m \u001b[0;34m(\u001b[0m\u001b[0mlabel_namer\u001b[0m\u001b[0;34m,\u001b[0m \u001b[0mfunc\u001b[0m\u001b[0;34m.\u001b[0m\u001b[0m__name__\u001b[0m\u001b[0;34m)\u001b[0m\u001b[0;34m,\u001b[0m\u001b[0;34m\u001b[0m\u001b[0;34m\u001b[0m\u001b[0m\n\u001b[1;32m   1809\u001b[0m                         RuntimeWarning, stacklevel=2)\n\u001b[0;32m-> 1810\u001b[0;31m             \u001b[0;32mreturn\u001b[0m \u001b[0mfunc\u001b[0m\u001b[0;34m(\u001b[0m\u001b[0max\u001b[0m\u001b[0;34m,\u001b[0m \u001b[0;34m*\u001b[0m\u001b[0margs\u001b[0m\u001b[0;34m,\u001b[0m \u001b[0;34m**\u001b[0m\u001b[0mkwargs\u001b[0m\u001b[0;34m)\u001b[0m\u001b[0;34m\u001b[0m\u001b[0;34m\u001b[0m\u001b[0m\n\u001b[0m\u001b[1;32m   1811\u001b[0m \u001b[0;34m\u001b[0m\u001b[0m\n\u001b[1;32m   1812\u001b[0m         inner.__doc__ = _add_data_doc(inner.__doc__,\n",
      "\u001b[0;32m~/.local/lib/python3.6/site-packages/matplotlib/axes/_axes.py\u001b[0m in \u001b[0;36mboxplot\u001b[0;34m(self, x, notch, sym, vert, whis, positions, widths, patch_artist, bootstrap, usermedians, conf_intervals, meanline, showmeans, showcaps, showbox, showfliers, boxprops, labels, flierprops, medianprops, meanprops, capprops, whiskerprops, manage_xticks, autorange, zorder)\u001b[0m\n\u001b[1;32m   3501\u001b[0m \u001b[0;34m\u001b[0m\u001b[0m\n\u001b[1;32m   3502\u001b[0m         bxpstats = cbook.boxplot_stats(x, whis=whis, bootstrap=bootstrap,\n\u001b[0;32m-> 3503\u001b[0;31m                                        labels=labels, autorange=autorange)\n\u001b[0m\u001b[1;32m   3504\u001b[0m         \u001b[0;32mif\u001b[0m \u001b[0mnotch\u001b[0m \u001b[0;32mis\u001b[0m \u001b[0;32mNone\u001b[0m\u001b[0;34m:\u001b[0m\u001b[0;34m\u001b[0m\u001b[0;34m\u001b[0m\u001b[0m\n\u001b[1;32m   3505\u001b[0m             \u001b[0mnotch\u001b[0m \u001b[0;34m=\u001b[0m \u001b[0mrcParams\u001b[0m\u001b[0;34m[\u001b[0m\u001b[0;34m'boxplot.notch'\u001b[0m\u001b[0;34m]\u001b[0m\u001b[0;34m\u001b[0m\u001b[0;34m\u001b[0m\u001b[0m\n",
      "\u001b[0;32m~/.local/lib/python3.6/site-packages/matplotlib/cbook/__init__.py\u001b[0m in \u001b[0;36mboxplot_stats\u001b[0;34m(X, whis, bootstrap, labels, autorange)\u001b[0m\n\u001b[1;32m   1179\u001b[0m         \u001b[0mlabels\u001b[0m \u001b[0;34m=\u001b[0m \u001b[0mitertools\u001b[0m\u001b[0;34m.\u001b[0m\u001b[0mrepeat\u001b[0m\u001b[0;34m(\u001b[0m\u001b[0;32mNone\u001b[0m\u001b[0;34m)\u001b[0m\u001b[0;34m\u001b[0m\u001b[0;34m\u001b[0m\u001b[0m\n\u001b[1;32m   1180\u001b[0m     \u001b[0;32melif\u001b[0m \u001b[0mlen\u001b[0m\u001b[0;34m(\u001b[0m\u001b[0mlabels\u001b[0m\u001b[0;34m)\u001b[0m \u001b[0;34m!=\u001b[0m \u001b[0mncols\u001b[0m\u001b[0;34m:\u001b[0m\u001b[0;34m\u001b[0m\u001b[0;34m\u001b[0m\u001b[0m\n\u001b[0;32m-> 1181\u001b[0;31m         \u001b[0;32mraise\u001b[0m \u001b[0mValueError\u001b[0m\u001b[0;34m(\u001b[0m\u001b[0;34m\"Dimensions of labels and X must be compatible\"\u001b[0m\u001b[0;34m)\u001b[0m\u001b[0;34m\u001b[0m\u001b[0;34m\u001b[0m\u001b[0m\n\u001b[0m\u001b[1;32m   1182\u001b[0m \u001b[0;34m\u001b[0m\u001b[0m\n\u001b[1;32m   1183\u001b[0m     \u001b[0minput_whis\u001b[0m \u001b[0;34m=\u001b[0m \u001b[0mwhis\u001b[0m\u001b[0;34m\u001b[0m\u001b[0;34m\u001b[0m\u001b[0m\n",
      "\u001b[0;31mValueError\u001b[0m: Dimensions of labels and X must be compatible"
     ]
    },
    {
     "data": {
      "image/png": "[encoded data removed]",
      "text/plain": [
       "<Figure size 432x288 with 1 Axes>"
      ]
     },
     "metadata": {
      "needs_background": "light"
     },
     "output_type": "display_data"
    }
   ],
   "source": [
    "#filtered out low accuracies\n",
    "frecord = record[record[:,-1]>=0.95]\n",
    "#filtered out non gfusedmax\n",
    "frecord = frecord[frecord[:,name2index['max_type']]==2]\n",
    "print(frecord.shape)\n",
    "#box plot\n",
    "index = name2index['norm_flag']\n",
    "values = list(set(frecord[:,index]))\n",
    "values.sort()\n",
    "plt.boxplot([frecord[frecord[:,index]==v][:,-1] for v in values],labels=['no-norm','with-norm'])"
   ]
  },
  {
   "cell_type": "code",
   "execution_count": 20,
   "metadata": {},
   "outputs": [
    {
     "name": "stdout",
     "output_type": "stream",
     "text": [
      "(17, 7)\n"
     ]
    },
    {
     "data": {
      "text/plain": [
       "Text(0.5, 0, '$\\\\lambda$')"
      ]
     },
     "execution_count": 20,
     "metadata": {},
     "output_type": "execute_result"
    },
    {
     "data": {
      "image/png": "[encoded data removed]",
      "text/plain": [
       "<Figure size 432x288 with 1 Axes>"
      ]
     },
     "metadata": {
      "needs_background": "light"
     },
     "output_type": "display_data"
    }
   ],
   "source": [
    "#filtered out low accuracies\n",
    "frecord = record[record[:,-1]>=0.95]\n",
    "#filtered out non gfusedmax\n",
    "frecord = frecord[frecord[:,name2index['max_type']]==2]\n",
    "#filtered out non layer-norm\n",
    "frecord = frecord[frecord[:,name2index['norm_flag']]==1]\n",
    "print(frecord.shape)\n",
    "#box plot\n",
    "index = name2index['lam']\n",
    "values = list(set(frecord[:,index]))\n",
    "values.sort()\n",
    "plt.boxplot([frecord[frecord[:,index]==v][:,-1] for v in values],labels=['%.2f'%v for v in values])\n",
    "plt.xlabel('$\\lambda$')"
   ]
  },
  {
   "cell_type": "code",
   "execution_count": 22,
   "metadata": {},
   "outputs": [
    {
     "name": "stdout",
     "output_type": "stream",
     "text": [
      "(17, 7) [ 0.01    1.     10.      1.      2.      0.      0.9895]\n"
     ]
    },
    {
     "data": {
      "text/plain": [
       "Text(0.5, 0, '$\\\\gamma$')"
      ]
     },
     "execution_count": 22,
     "metadata": {},
     "output_type": "execute_result"
    },
    {
     "data": {
      "image/png": "[encoded data removed]",
      "text/plain": [
       "<Figure size 432x288 with 1 Axes>"
      ]
     },
     "metadata": {
      "needs_background": "light"
     },
     "output_type": "display_data"
    }
   ],
   "source": [
    "#filtered out low accuracies\n",
    "frecord = record[record[:,-1]>=0.95]\n",
    "#filtered out non gfusedmax\n",
    "frecord = frecord[frecord[:,name2index['max_type']]==2]\n",
    "#filtered out non layer-norm\n",
    "frecord = frecord[frecord[:,name2index['norm_flag']]==1]\n",
    "print(frecord.shape,frecord[np.argmax(frecord[:,-1])])\n",
    "#box plot\n",
    "index = name2index['gamma']\n",
    "values = list(set(frecord[:,index]))\n",
    "values.sort()\n",
    "plt.boxplot([frecord[frecord[:,index]==v][:,-1] for v in values],labels=['%.2f'%v for v in values])\n",
    "plt.xlabel('$\\gamma$')"
   ]
  },
  {
   "cell_type": "code",
   "execution_count": 23,
   "metadata": {},
   "outputs": [
    {
     "name": "stdout",
     "output_type": "stream",
     "text": [
      "(17, 7) [ 0.01    1.     10.      1.      2.      0.      0.9895]\n"
     ]
    },
    {
     "data": {
      "text/plain": [
       "{'whiskers': [<matplotlib.lines.Line2D at 0x7f6b11a7a860>,\n",
       "  <matplotlib.lines.Line2D at 0x7f6b11a7aba8>,\n",
       "  <matplotlib.lines.Line2D at 0x7f6b11a02f98>,\n",
       "  <matplotlib.lines.Line2D at 0x7f6b11a0d320>],\n",
       " 'caps': [<matplotlib.lines.Line2D at 0x7f6b11a7aef0>,\n",
       "  <matplotlib.lines.Line2D at 0x7f6b11a02278>,\n",
       "  <matplotlib.lines.Line2D at 0x7f6b11a0d668>,\n",
       "  <matplotlib.lines.Line2D at 0x7f6b11a0d9b0>],\n",
       " 'boxes': [<matplotlib.lines.Line2D at 0x7f6b11a7a710>,\n",
       "  <matplotlib.lines.Line2D at 0x7f6b11a02c18>],\n",
       " 'medians': [<matplotlib.lines.Line2D at 0x7f6b11a025c0>,\n",
       "  <matplotlib.lines.Line2D at 0x7f6b11a0dcf8>],\n",
       " 'fliers': [<matplotlib.lines.Line2D at 0x7f6b11a02908>,\n",
       "  <matplotlib.lines.Line2D at 0x7f6b11a17080>],\n",
       " 'means': []}"
      ]
     },
     "execution_count": 23,
     "metadata": {},
     "output_type": "execute_result"
    },
    {
     "data": {
      "image/png": "[encoded data removed]",
      "text/plain": [
       "<Figure size 432x288 with 1 Axes>"
      ]
     },
     "metadata": {
      "needs_background": "light"
     },
     "output_type": "display_data"
    }
   ],
   "source": [
    "#filtered out low accuracies\n",
    "frecord = record[record[:,-1]>=0.95]\n",
    "#filtered out non gfusedmax\n",
    "frecord = frecord[frecord[:,name2index['max_type']]==2]\n",
    "#filtered out non layer-norm\n",
    "frecord = frecord[frecord[:,name2index['norm_flag']]==1]\n",
    "print(frecord.shape,frecord[np.argmax(frecord[:,-1])])\n",
    "#box plot\n",
    "index = name2index['optim_type']\n",
    "values = list(set(frecord[:,index]))\n",
    "values.sort()\n",
    "plt.boxplot([frecord[frecord[:,index]==v][:,-1] for v in values],labels=['SGD','Adam'])"
   ]
  },
  {
   "cell_type": "code",
   "execution_count": null,
   "metadata": {},
   "outputs": [],
   "source": []
  }
 ],
 "metadata": {
  "kernelspec": {
   "display_name": "Python 3",
   "language": "python",
   "name": "python3"
  },
  "language_info": {
   "codemirror_mode": {
    "name": "ipython",
    "version": 3
   },
   "file_extension": ".py",
   "mimetype": "text/x-python",
   "name": "python",
   "nbconvert_exporter": "python",
   "pygments_lexer": "ipython3",
   "version": "3.6.7"
  }
 },
 "nbformat": 4,
 "nbformat_minor": 2
}
