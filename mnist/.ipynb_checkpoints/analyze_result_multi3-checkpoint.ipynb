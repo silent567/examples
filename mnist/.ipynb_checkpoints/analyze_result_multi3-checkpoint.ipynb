{
 "cells": [
  {
   "cell_type": "code",
   "execution_count": 1,
   "metadata": {},
   "outputs": [],
   "source": [
    "import numpy as np\n",
    "import matplotlib.pyplot as plt\n",
    "import os"
   ]
  },
  {
   "cell_type": "code",
   "execution_count": 2,
   "metadata": {},
   "outputs": [
    {
     "ename": "ValueError",
     "evalue": "need at least one array to concatenate",
     "output_type": "error",
     "traceback": [
      "\u001b[0;31m---------------------------------------------------------------------------\u001b[0m",
      "\u001b[0;31mValueError\u001b[0m                                Traceback (most recent call last)",
      "\u001b[0;32m<ipython-input-2-b8d6224c9c9d>\u001b[0m in \u001b[0;36m<module>\u001b[0;34m\u001b[0m\n\u001b[1;32m      7\u001b[0m     \u001b[0mrecord\u001b[0m \u001b[0;34m=\u001b[0m \u001b[0mnp\u001b[0m\u001b[0;34m.\u001b[0m\u001b[0mconcatenate\u001b[0m\u001b[0;34m(\u001b[0m\u001b[0mrecord\u001b[0m\u001b[0;34m,\u001b[0m\u001b[0maxis\u001b[0m\u001b[0;34m=\u001b[0m\u001b[0;36m0\u001b[0m\u001b[0;34m)\u001b[0m\u001b[0;34m\u001b[0m\u001b[0m\n\u001b[1;32m      8\u001b[0m     \u001b[0;32mreturn\u001b[0m \u001b[0mrecord\u001b[0m\u001b[0;34m\u001b[0m\u001b[0m\n\u001b[0;32m----> 9\u001b[0;31m \u001b[0mrecord\u001b[0m \u001b[0;34m=\u001b[0m \u001b[0mgather_record\u001b[0m\u001b[0;34m(\u001b[0m\u001b[0;34m'2018-12-19'\u001b[0m\u001b[0;34m)\u001b[0m\u001b[0;34m\u001b[0m\u001b[0m\n\u001b[0m\u001b[1;32m     10\u001b[0m \u001b[0mprint\u001b[0m\u001b[0;34m(\u001b[0m\u001b[0mrecord\u001b[0m\u001b[0;34m.\u001b[0m\u001b[0mshape\u001b[0m\u001b[0;34m)\u001b[0m\u001b[0;34m\u001b[0m\u001b[0m\n\u001b[1;32m     11\u001b[0m \u001b[0mprint\u001b[0m\u001b[0;34m(\u001b[0m\u001b[0mrecord\u001b[0m\u001b[0;34m[\u001b[0m\u001b[0mnp\u001b[0m\u001b[0;34m.\u001b[0m\u001b[0margmax\u001b[0m\u001b[0;34m(\u001b[0m\u001b[0mrecord\u001b[0m\u001b[0;34m[\u001b[0m\u001b[0;34m:\u001b[0m\u001b[0;34m,\u001b[0m\u001b[0;34m-\u001b[0m\u001b[0;36m1\u001b[0m\u001b[0;34m]\u001b[0m\u001b[0;34m)\u001b[0m\u001b[0;34m]\u001b[0m\u001b[0;34m)\u001b[0m\u001b[0;34m\u001b[0m\u001b[0m\n",
      "\u001b[0;32m<ipython-input-2-b8d6224c9c9d>\u001b[0m in \u001b[0;36mgather_record\u001b[0;34m(key)\u001b[0m\n\u001b[1;32m      5\u001b[0m         \u001b[0;32mif\u001b[0m \u001b[0;34m'.csv'\u001b[0m \u001b[0;32min\u001b[0m \u001b[0mfn\u001b[0m \u001b[0;32mand\u001b[0m \u001b[0mkey\u001b[0m \u001b[0;32min\u001b[0m \u001b[0mfn\u001b[0m\u001b[0;34m:\u001b[0m\u001b[0;34m\u001b[0m\u001b[0m\n\u001b[1;32m      6\u001b[0m             \u001b[0mrecord\u001b[0m\u001b[0;34m.\u001b[0m\u001b[0mappend\u001b[0m\u001b[0;34m(\u001b[0m\u001b[0mnp\u001b[0m\u001b[0;34m.\u001b[0m\u001b[0mloadtxt\u001b[0m\u001b[0;34m(\u001b[0m\u001b[0mfn\u001b[0m\u001b[0;34m,\u001b[0m\u001b[0mdelimiter\u001b[0m\u001b[0;34m=\u001b[0m\u001b[0;34m','\u001b[0m\u001b[0;34m)\u001b[0m\u001b[0;34m)\u001b[0m\u001b[0;34m\u001b[0m\u001b[0m\n\u001b[0;32m----> 7\u001b[0;31m     \u001b[0mrecord\u001b[0m \u001b[0;34m=\u001b[0m \u001b[0mnp\u001b[0m\u001b[0;34m.\u001b[0m\u001b[0mconcatenate\u001b[0m\u001b[0;34m(\u001b[0m\u001b[0mrecord\u001b[0m\u001b[0;34m,\u001b[0m\u001b[0maxis\u001b[0m\u001b[0;34m=\u001b[0m\u001b[0;36m0\u001b[0m\u001b[0;34m)\u001b[0m\u001b[0;34m\u001b[0m\u001b[0m\n\u001b[0m\u001b[1;32m      8\u001b[0m     \u001b[0;32mreturn\u001b[0m \u001b[0mrecord\u001b[0m\u001b[0;34m\u001b[0m\u001b[0m\n\u001b[1;32m      9\u001b[0m \u001b[0mrecord\u001b[0m \u001b[0;34m=\u001b[0m \u001b[0mgather_record\u001b[0m\u001b[0;34m(\u001b[0m\u001b[0;34m'2018-12-19'\u001b[0m\u001b[0;34m)\u001b[0m\u001b[0;34m\u001b[0m\u001b[0m\n",
      "\u001b[0;31mValueError\u001b[0m: need at least one array to concatenate"
     ]
    }
   ],
   "source": [
    "def gather_record(key=''):\n",
    "    filenames = os.listdir()\n",
    "    record = []\n",
    "    for fn in filenames:\n",
    "        if '.csv' in fn and key in fn:\n",
    "            record.append(np.loadtxt(fn,delimiter=','))\n",
    "    record = np.concatenate(record,axis=0)\n",
    "    return record\n",
    "record = gather_record('2018-12-19')\n",
    "print(record.shape)\n",
    "print(record[np.argmax(record[:,-1])])"
   ]
  },
  {
   "cell_type": "code",
   "execution_count": 7,
   "metadata": {},
   "outputs": [
    {
     "name": "stdout",
     "output_type": "stream",
     "text": [
      "['lr', 'norm_flag', 'gamma', 'lam', 'max_type', 'optim_type']\n",
      "{'lr': 0, 'norm_flag': 1, 'gamma': 2, 'lam': 3, 'max_type': 4, 'optim_type': 5}\n"
     ]
    }
   ],
   "source": [
    "index2name = ['lr','norm_flag','gamma','lam','max_type','optim_type']\n",
    "name2index = {n:i for i,n in enumerate(index2name)}\n",
    "print(index2name)\n",
    "print(name2index)"
   ]
  },
  {
   "cell_type": "code",
   "execution_count": 19,
   "metadata": {},
   "outputs": [
    {
     "data": {
      "text/plain": [
       "{'whiskers': [<matplotlib.lines.Line2D at 0x7f6b11fb36d8>,\n",
       "  <matplotlib.lines.Line2D at 0x7f6b11fb3a20>,\n",
       "  <matplotlib.lines.Line2D at 0x7f6b11fbce10>,\n",
       "  <matplotlib.lines.Line2D at 0x7f6b11f45198>,\n",
       "  <matplotlib.lines.Line2D at 0x7f6b11f4e588>,\n",
       "  <matplotlib.lines.Line2D at 0x7f6b11f4e8d0>],\n",
       " 'caps': [<matplotlib.lines.Line2D at 0x7f6b11fb3d68>,\n",
       "  <matplotlib.lines.Line2D at 0x7f6b11fbc0f0>,\n",
       "  <matplotlib.lines.Line2D at 0x7f6b11f454e0>,\n",
       "  <matplotlib.lines.Line2D at 0x7f6b11f45828>,\n",
       "  <matplotlib.lines.Line2D at 0x7f6b11f4ec18>,\n",
       "  <matplotlib.lines.Line2D at 0x7f6b11f4ef60>],\n",
       " 'boxes': [<matplotlib.lines.Line2D at 0x7f6b11fb3588>,\n",
       "  <matplotlib.lines.Line2D at 0x7f6b11fbca90>,\n",
       "  <matplotlib.lines.Line2D at 0x7f6b11f4e208>],\n",
       " 'medians': [<matplotlib.lines.Line2D at 0x7f6b11fbc438>,\n",
       "  <matplotlib.lines.Line2D at 0x7f6b11f45b70>,\n",
       "  <matplotlib.lines.Line2D at 0x7f6b11f5a2e8>],\n",
       " 'fliers': [<matplotlib.lines.Line2D at 0x7f6b11fbc780>,\n",
       "  <matplotlib.lines.Line2D at 0x7f6b11f45eb8>,\n",
       "  <matplotlib.lines.Line2D at 0x7f6b11f5a630>],\n",
       " 'means': []}"
      ]
     },
     "execution_count": 19,
     "metadata": {},
     "output_type": "execute_result"
    },
    {
     "data": {
      "image/png": "[encoded data removed]",
      "text/plain": [
       "<Figure size 432x288 with 1 Axes>"
      ]
     },
     "metadata": {
      "needs_background": "light"
     },
     "output_type": "display_data"
    }
   ],
   "source": [
    "#filtered out low accuracies\n",
    "frecord = record[record[:,-1]>=0.95]\n",
    "#box plot\n",
    "index = name2index['max_type']\n",
    "values = list(set(frecord[:,index]))\n",
    "values.sort()\n",
    "plt.boxplot([frecord[frecord[:,index]==v][:,-1] for v in values],labels=['softmax','sparsemax','gfusedmax'])"
   ]
  },
  {
   "cell_type": "code",
   "execution_count": 18,
   "metadata": {},
   "outputs": [
    {
     "name": "stdout",
     "output_type": "stream",
     "text": [
      "(38, 7)\n"
     ]
    },
    {
     "data": {
      "text/plain": [
       "{'whiskers': [<matplotlib.lines.Line2D at 0x7f6b11fc1978>,\n",
       "  <matplotlib.lines.Line2D at 0x7f6b11fc1cc0>,\n",
       "  <matplotlib.lines.Line2D at 0x7f6b11fd50f0>,\n",
       "  <matplotlib.lines.Line2D at 0x7f6b11fd5438>],\n",
       " 'caps': [<matplotlib.lines.Line2D at 0x7f6b11fcb048>,\n",
       "  <matplotlib.lines.Line2D at 0x7f6b11fcb390>,\n",
       "  <matplotlib.lines.Line2D at 0x7f6b11fd5780>,\n",
       "  <matplotlib.lines.Line2D at 0x7f6b11fd5ac8>],\n",
       " 'boxes': [<matplotlib.lines.Line2D at 0x7f6b11fc1828>,\n",
       "  <matplotlib.lines.Line2D at 0x7f6b11fcbd30>],\n",
       " 'medians': [<matplotlib.lines.Line2D at 0x7f6b11fcb6d8>,\n",
       "  <matplotlib.lines.Line2D at 0x7f6b11fd5e10>],\n",
       " 'fliers': [<matplotlib.lines.Line2D at 0x7f6b11fcba20>,\n",
       "  <matplotlib.lines.Line2D at 0x7f6b11fde198>],\n",
       " 'means': []}"
      ]
     },
     "execution_count": 18,
     "metadata": {},
     "output_type": "execute_result"
    },
    {
     "data": {
      "image/png": "[encoded data removed]",
      "text/plain": [
       "<Figure size 432x288 with 1 Axes>"
      ]
     },
     "metadata": {
      "needs_background": "light"
     },
     "output_type": "display_data"
    }
   ],
   "source": [
    "#filtered out low accuracies\n",
    "frecord = record[record[:,-1]>=0.95]\n",
    "#filtered out non gfusedmax\n",
    "frecord = frecord[frecord[:,name2index['max_type']]==2]\n",
    "print(frecord.shape)\n",
    "#box plot\n",
    "index = name2index['norm_flag']\n",
    "values = list(set(frecord[:,index]))\n",
    "values.sort()\n",
    "plt.boxplot([frecord[frecord[:,index]==v][:,-1] for v in values],labels=['no-norm','with-norm'])"
   ]
  },
  {
   "cell_type": "code",
   "execution_count": 20,
   "metadata": {},
   "outputs": [
    {
     "name": "stdout",
     "output_type": "stream",
     "text": [
      "(17, 7)\n"
     ]
    },
    {
     "data": {
      "text/plain": [
       "Text(0.5, 0, '$\\\\lambda$')"
      ]
     },
     "execution_count": 20,
     "metadata": {},
     "output_type": "execute_result"
    },
    {
     "data": {
      "image/png": "[encoded data removed]",
      "text/plain": [
       "<Figure size 432x288 with 1 Axes>"
      ]
     },
     "metadata": {
      "needs_background": "light"
     },
     "output_type": "display_data"
    }
   ],
   "source": [
    "#filtered out low accuracies\n",
    "frecord = record[record[:,-1]>=0.95]\n",
    "#filtered out non gfusedmax\n",
    "frecord = frecord[frecord[:,name2index['max_type']]==2]\n",
    "#filtered out non layer-norm\n",
    "frecord = frecord[frecord[:,name2index['norm_flag']]==1]\n",
    "print(frecord.shape)\n",
    "#box plot\n",
    "index = name2index['lam']\n",
    "values = list(set(frecord[:,index]))\n",
    "values.sort()\n",
    "plt.boxplot([frecord[frecord[:,index]==v][:,-1] for v in values],labels=['%.2f'%v for v in values])\n",
    "plt.xlabel('$\\lambda$')"
   ]
  },
  {
   "cell_type": "code",
   "execution_count": 22,
   "metadata": {},
   "outputs": [
    {
     "name": "stdout",
     "output_type": "stream",
     "text": [
      "(17, 7) [ 0.01    1.     10.      1.      2.      0.      0.9895]\n"
     ]
    },
    {
     "data": {
      "text/plain": [
       "Text(0.5, 0, '$\\\\gamma$')"
      ]
     },
     "execution_count": 22,
     "metadata": {},
     "output_type": "execute_result"
    },
    {
     "data": {
      "image/png": "[encoded data removed]",
      "text/plain": [
       "<Figure size 432x288 with 1 Axes>"
      ]
     },
     "metadata": {
      "needs_background": "light"
     },
     "output_type": "display_data"
    }
   ],
   "source": [
    "#filtered out low accuracies\n",
    "frecord = record[record[:,-1]>=0.95]\n",
    "#filtered out non gfusedmax\n",
    "frecord = frecord[frecord[:,name2index['max_type']]==2]\n",
    "#filtered out non layer-norm\n",
    "frecord = frecord[frecord[:,name2index['norm_flag']]==1]\n",
    "print(frecord.shape,frecord[np.argmax(frecord[:,-1])])\n",
    "#box plot\n",
    "index = name2index['gamma']\n",
    "values = list(set(frecord[:,index]))\n",
    "values.sort()\n",
    "plt.boxplot([frecord[frecord[:,index]==v][:,-1] for v in values],labels=['%.2f'%v for v in values])\n",
    "plt.xlabel('$\\gamma$')"
   ]
  },
  {
   "cell_type": "code",
   "execution_count": 23,
   "metadata": {},
   "outputs": [
    {
     "name": "stdout",
     "output_type": "stream",
     "text": [
      "(17, 7) [ 0.01    1.     10.      1.      2.      0.      0.9895]\n"
     ]
    },
    {
     "data": {
      "text/plain": [
       "{'whiskers': [<matplotlib.lines.Line2D at 0x7f6b11a7a860>,\n",
       "  <matplotlib.lines.Line2D at 0x7f6b11a7aba8>,\n",
       "  <matplotlib.lines.Line2D at 0x7f6b11a02f98>,\n",
       "  <matplotlib.lines.Line2D at 0x7f6b11a0d320>],\n",
       " 'caps': [<matplotlib.lines.Line2D at 0x7f6b11a7aef0>,\n",
       "  <matplotlib.lines.Line2D at 0x7f6b11a02278>,\n",
       "  <matplotlib.lines.Line2D at 0x7f6b11a0d668>,\n",
       "  <matplotlib.lines.Line2D at 0x7f6b11a0d9b0>],\n",
       " 'boxes': [<matplotlib.lines.Line2D at 0x7f6b11a7a710>,\n",
       "  <matplotlib.lines.Line2D at 0x7f6b11a02c18>],\n",
       " 'medians': [<matplotlib.lines.Line2D at 0x7f6b11a025c0>,\n",
       "  <matplotlib.lines.Line2D at 0x7f6b11a0dcf8>],\n",
       " 'fliers': [<matplotlib.lines.Line2D at 0x7f6b11a02908>,\n",
       "  <matplotlib.lines.Line2D at 0x7f6b11a17080>],\n",
       " 'means': []}"
      ]
     },
     "execution_count": 23,
     "metadata": {},
     "output_type": "execute_result"
    },
    {
     "data": {
      "image/png": "[encoded data removed]",
      "text/plain": [
       "<Figure size 432x288 with 1 Axes>"
      ]
     },
     "metadata": {
      "needs_background": "light"
     },
     "output_type": "display_data"
    }
   ],
   "source": [
    "#filtered out low accuracies\n",
    "frecord = record[record[:,-1]>=0.95]\n",
    "#filtered out non gfusedmax\n",
    "frecord = frecord[frecord[:,name2index['max_type']]==2]\n",
    "#filtered out non layer-norm\n",
    "frecord = frecord[frecord[:,name2index['norm_flag']]==1]\n",
    "print(frecord.shape,frecord[np.argmax(frecord[:,-1])])\n",
    "#box plot\n",
    "index = name2index['optim_type']\n",
    "values = list(set(frecord[:,index]))\n",
    "values.sort()\n",
    "plt.boxplot([frecord[frecord[:,index]==v][:,-1] for v in values],labels=['SGD','Adam'])"
   ]
  },
  {
   "cell_type": "code",
   "execution_count": null,
   "metadata": {},
   "outputs": [],
   "source": []
  }
 ],
 "metadata": {
  "kernelspec": {
   "display_name": "Python 3",
   "language": "python",
   "name": "python3"
  },
  "language_info": {
   "codemirror_mode": {
    "name": "ipython",
    "version": 3
   },
   "file_extension": ".py",
   "mimetype": "text/x-python",
   "name": "python",
   "nbconvert_exporter": "python",
   "pygments_lexer": "ipython3",
   "version": "3.6.5"
  }
 },
 "nbformat": 4,
 "nbformat_minor": 2
}
