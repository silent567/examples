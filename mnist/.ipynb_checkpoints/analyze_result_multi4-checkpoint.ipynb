{
 "cells": [
  {
   "cell_type": "code",
   "execution_count": 11,
   "metadata": {},
   "outputs": [],
   "source": [
    "import numpy as np\n",
    "import matplotlib.pyplot as plt\n",
    "import os"
   ]
  },
  {
   "cell_type": "code",
   "execution_count": 12,
   "metadata": {},
   "outputs": [
    {
     "name": "stdout",
     "output_type": "stream",
     "text": [
      "(400, 8)\n",
      "[3.16227766e-03 0.00000000e+00 1.00000000e+01 3.16227766e-01\n",
      " 0.00000000e+00 1.00000000e+00 5.00000000e+00 9.74700000e-01]\n"
     ]
    }
   ],
   "source": [
    "def gather_record(key=''):\n",
    "    filenames = os.listdir()\n",
    "    record = []\n",
    "    for fn in filenames:\n",
    "        if '.csv' in fn and key in fn:\n",
    "            tmp_record = np.loadtxt(fn,delimiter=',')\n",
    "            tmp_record tmp_record[tmp_record[:,-1]>0]\n",
    "            record.append()\n",
    "    record = np.concatenate(record,axis=0)\n",
    "    return record\n",
    "record = gather_record('3_multi')\n",
    "print(record.shape)\n",
    "print(record[np.argmax(record[:,-1])])"
   ]
  },
  {
   "cell_type": "code",
   "execution_count": 4,
   "metadata": {},
   "outputs": [
    {
     "name": "stdout",
     "output_type": "stream",
     "text": [
      "['lr', 'norm_flag', 'gamma', 'lam', 'max_type', 'optim_type', 'head_cnt']\n",
      "{'lr': 0, 'norm_flag': 1, 'gamma': 2, 'lam': 3, 'max_type': 4, 'optim_type': 5, 'head_cnt': 6}\n"
     ]
    }
   ],
   "source": [
    "index2name = ['lr','norm_flag','gamma','lam','max_type','optim_type','head_cnt']\n",
    "name2index = {n:i for i,n in enumerate(index2name)}\n",
    "print(index2name)\n",
    "print(name2index)"
   ]
  },
  {
   "cell_type": "code",
   "execution_count": 10,
   "metadata": {},
   "outputs": [
    {
     "name": "stdout",
     "output_type": "stream",
     "text": [
      "[[3.16227766e-03 1.00000000e+00 3.16227766e+01 3.16227766e-02\n",
      "  2.00000000e+00 1.00000000e+00 1.00000000e+00 8.97300000e-01]\n",
      " [1.00000000e-02 1.00000000e+00 8.00000000e+00 1.00000000e+01\n",
      "  2.00000000e+00 0.00000000e+00 2.00000000e+00 9.00300000e-01]\n",
      " [1.00000000e-04 0.00000000e+00 1.00000000e-01 1.00000000e+01\n",
      "  2.00000000e+00 0.00000000e+00 1.00000000e+00 6.18000000e-01]\n",
      " [3.16227766e-04 0.00000000e+00 1.00000000e+02 3.16227766e-01\n",
      "  2.00000000e+00 0.00000000e+00 1.00000000e+00 3.99600000e-01]]\n"
     ]
    }
   ],
   "source": [
    "print(record[record[:,4]==2])"
   ]
  },
  {
   "cell_type": "code",
   "execution_count": 9,
   "metadata": {},
   "outputs": [
    {
     "name": "stdout",
     "output_type": "stream",
     "text": [
      "4 [0.0, 1.0, 2.0]\n"
     ]
    },
    {
     "data": {
      "text/plain": [
       "{'whiskers': [<matplotlib.lines.Line2D at 0x7f89654fff98>,\n",
       "  <matplotlib.lines.Line2D at 0x7f896548e320>,\n",
       "  <matplotlib.lines.Line2D at 0x7f896549b748>,\n",
       "  <matplotlib.lines.Line2D at 0x7f896549ba90>,\n",
       "  <matplotlib.lines.Line2D at 0x7f89654a4e80>,\n",
       "  <matplotlib.lines.Line2D at 0x7f89654b1208>],\n",
       " 'caps': [<matplotlib.lines.Line2D at 0x7f896548e668>,\n",
       "  <matplotlib.lines.Line2D at 0x7f896548e9b0>,\n",
       "  <matplotlib.lines.Line2D at 0x7f896549bdd8>,\n",
       "  <matplotlib.lines.Line2D at 0x7f89654a4160>,\n",
       "  <matplotlib.lines.Line2D at 0x7f89654b1550>,\n",
       "  <matplotlib.lines.Line2D at 0x7f89654b1898>],\n",
       " 'boxes': [<matplotlib.lines.Line2D at 0x7f89654ffe48>,\n",
       "  <matplotlib.lines.Line2D at 0x7f896549b400>,\n",
       "  <matplotlib.lines.Line2D at 0x7f89654a4b00>],\n",
       " 'medians': [<matplotlib.lines.Line2D at 0x7f896548ecf8>,\n",
       "  <matplotlib.lines.Line2D at 0x7f89654a44a8>,\n",
       "  <matplotlib.lines.Line2D at 0x7f89654b1be0>],\n",
       " 'fliers': [<matplotlib.lines.Line2D at 0x7f896549b080>,\n",
       "  <matplotlib.lines.Line2D at 0x7f89654a47f0>,\n",
       "  <matplotlib.lines.Line2D at 0x7f89654b1f28>],\n",
       " 'means': []}"
      ]
     },
     "execution_count": 9,
     "metadata": {},
     "output_type": "execute_result"
    },
    {
     "data": {
      "image/png": "[encoded data removed]",
      "text/plain": [
       "<Figure size 432x288 with 1 Axes>"
      ]
     },
     "metadata": {
      "needs_background": "light"
     },
     "output_type": "display_data"
    }
   ],
   "source": [
    "#filtered out low accuracies\n",
    "#frecord = record[record[:,-1]>=0.95]\n",
    "#box plot\n",
    "index = name2index['max_type']\n",
    "values = list(set(record[:,index]))\n",
    "print(index,values)\n",
    "values.sort()\n",
    "plt.boxplot([frecord[frecord[:,index]==v][:,-1] for v in values],labels=['softmax','sparsemax','gfusedmax'])"
   ]
  },
  {
   "cell_type": "code",
   "execution_count": 18,
   "metadata": {},
   "outputs": [
    {
     "name": "stdout",
     "output_type": "stream",
     "text": [
      "(38, 7)\n"
     ]
    },
    {
     "data": {
      "text/plain": [
       "{'whiskers': [<matplotlib.lines.Line2D at 0x7f6b11fc1978>,\n",
       "  <matplotlib.lines.Line2D at 0x7f6b11fc1cc0>,\n",
       "  <matplotlib.lines.Line2D at 0x7f6b11fd50f0>,\n",
       "  <matplotlib.lines.Line2D at 0x7f6b11fd5438>],\n",
       " 'caps': [<matplotlib.lines.Line2D at 0x7f6b11fcb048>,\n",
       "  <matplotlib.lines.Line2D at 0x7f6b11fcb390>,\n",
       "  <matplotlib.lines.Line2D at 0x7f6b11fd5780>,\n",
       "  <matplotlib.lines.Line2D at 0x7f6b11fd5ac8>],\n",
       " 'boxes': [<matplotlib.lines.Line2D at 0x7f6b11fc1828>,\n",
       "  <matplotlib.lines.Line2D at 0x7f6b11fcbd30>],\n",
       " 'medians': [<matplotlib.lines.Line2D at 0x7f6b11fcb6d8>,\n",
       "  <matplotlib.lines.Line2D at 0x7f6b11fd5e10>],\n",
       " 'fliers': [<matplotlib.lines.Line2D at 0x7f6b11fcba20>,\n",
       "  <matplotlib.lines.Line2D at 0x7f6b11fde198>],\n",
       " 'means': []}"
      ]
     },
     "execution_count": 18,
     "metadata": {},
     "output_type": "execute_result"
    },
    {
     "data": {
      "image/png": "[encoded data removed]",
      "text/plain": [
       "<Figure size 432x288 with 1 Axes>"
      ]
     },
     "metadata": {
      "needs_background": "light"
     },
     "output_type": "display_data"
    }
   ],
   "source": [
    "#filtered out low accuracies\n",
    "frecord = record[record[:,-1]>=0.95]\n",
    "#filtered out non gfusedmax\n",
    "frecord = frecord[frecord[:,name2index['max_type']]==2]\n",
    "print(frecord.shape)\n",
    "#box plot\n",
    "index = name2index['norm_flag']\n",
    "values = list(set(frecord[:,index]))\n",
    "values.sort()\n",
    "plt.boxplot([frecord[frecord[:,index]==v][:,-1] for v in values],labels=['no-norm','with-norm'])"
   ]
  },
  {
   "cell_type": "code",
   "execution_count": 20,
   "metadata": {},
   "outputs": [
    {
     "name": "stdout",
     "output_type": "stream",
     "text": [
      "(17, 7)\n"
     ]
    },
    {
     "data": {
      "text/plain": [
       "Text(0.5, 0, '$\\\\lambda$')"
      ]
     },
     "execution_count": 20,
     "metadata": {},
     "output_type": "execute_result"
    },
    {
     "data": {
      "image/png": "[encoded data removed]",
      "text/plain": [
       "<Figure size 432x288 with 1 Axes>"
      ]
     },
     "metadata": {
      "needs_background": "light"
     },
     "output_type": "display_data"
    }
   ],
   "source": [
    "#filtered out low accuracies\n",
    "frecord = record[record[:,-1]>=0.95]\n",
    "#filtered out non gfusedmax\n",
    "frecord = frecord[frecord[:,name2index['max_type']]==2]\n",
    "#filtered out non layer-norm\n",
    "frecord = frecord[frecord[:,name2index['norm_flag']]==1]\n",
    "print(frecord.shape)\n",
    "#box plot\n",
    "index = name2index['lam']\n",
    "values = list(set(frecord[:,index]))\n",
    "values.sort()\n",
    "plt.boxplot([frecord[frecord[:,index]==v][:,-1] for v in values],labels=['%.2f'%v for v in values])\n",
    "plt.xlabel('$\\lambda$')"
   ]
  },
  {
   "cell_type": "code",
   "execution_count": 22,
   "metadata": {},
   "outputs": [
    {
     "name": "stdout",
     "output_type": "stream",
     "text": [
      "(17, 7) [ 0.01    1.     10.      1.      2.      0.      0.9895]\n"
     ]
    },
    {
     "data": {
      "text/plain": [
       "Text(0.5, 0, '$\\\\gamma$')"
      ]
     },
     "execution_count": 22,
     "metadata": {},
     "output_type": "execute_result"
    },
    {
     "data": {
      "image/png": "[encoded data removed]",
      "text/plain": [
       "<Figure size 432x288 with 1 Axes>"
      ]
     },
     "metadata": {
      "needs_background": "light"
     },
     "output_type": "display_data"
    }
   ],
   "source": [
    "#filtered out low accuracies\n",
    "frecord = record[record[:,-1]>=0.95]\n",
    "#filtered out non gfusedmax\n",
    "frecord = frecord[frecord[:,name2index['max_type']]==2]\n",
    "#filtered out non layer-norm\n",
    "frecord = frecord[frecord[:,name2index['norm_flag']]==1]\n",
    "print(frecord.shape,frecord[np.argmax(frecord[:,-1])])\n",
    "#box plot\n",
    "index = name2index['gamma']\n",
    "values = list(set(frecord[:,index]))\n",
    "values.sort()\n",
    "plt.boxplot([frecord[frecord[:,index]==v][:,-1] for v in values],labels=['%.2f'%v for v in values])\n",
    "plt.xlabel('$\\gamma$')"
   ]
  },
  {
   "cell_type": "code",
   "execution_count": 23,
   "metadata": {},
   "outputs": [
    {
     "name": "stdout",
     "output_type": "stream",
     "text": [
      "(17, 7) [ 0.01    1.     10.      1.      2.      0.      0.9895]\n"
     ]
    },
    {
     "data": {
      "text/plain": [
       "{'whiskers': [<matplotlib.lines.Line2D at 0x7f6b11a7a860>,\n",
       "  <matplotlib.lines.Line2D at 0x7f6b11a7aba8>,\n",
       "  <matplotlib.lines.Line2D at 0x7f6b11a02f98>,\n",
       "  <matplotlib.lines.Line2D at 0x7f6b11a0d320>],\n",
       " 'caps': [<matplotlib.lines.Line2D at 0x7f6b11a7aef0>,\n",
       "  <matplotlib.lines.Line2D at 0x7f6b11a02278>,\n",
       "  <matplotlib.lines.Line2D at 0x7f6b11a0d668>,\n",
       "  <matplotlib.lines.Line2D at 0x7f6b11a0d9b0>],\n",
       " 'boxes': [<matplotlib.lines.Line2D at 0x7f6b11a7a710>,\n",
       "  <matplotlib.lines.Line2D at 0x7f6b11a02c18>],\n",
       " 'medians': [<matplotlib.lines.Line2D at 0x7f6b11a025c0>,\n",
       "  <matplotlib.lines.Line2D at 0x7f6b11a0dcf8>],\n",
       " 'fliers': [<matplotlib.lines.Line2D at 0x7f6b11a02908>,\n",
       "  <matplotlib.lines.Line2D at 0x7f6b11a17080>],\n",
       " 'means': []}"
      ]
     },
     "execution_count": 23,
     "metadata": {},
     "output_type": "execute_result"
    },
    {
     "data": {
      "image/png": "[encoded data removed]",
      "text/plain": [
       "<Figure size 432x288 with 1 Axes>"
      ]
     },
     "metadata": {
      "needs_background": "light"
     },
     "output_type": "display_data"
    }
   ],
   "source": [
    "#filtered out low accuracies\n",
    "frecord = record[record[:,-1]>=0.95]\n",
    "#filtered out non gfusedmax\n",
    "frecord = frecord[frecord[:,name2index['max_type']]==2]\n",
    "#filtered out non layer-norm\n",
    "frecord = frecord[frecord[:,name2index['norm_flag']]==1]\n",
    "print(frecord.shape,frecord[np.argmax(frecord[:,-1])])\n",
    "#box plot\n",
    "index = name2index['optim_type']\n",
    "values = list(set(frecord[:,index]))\n",
    "values.sort()\n",
    "plt.boxplot([frecord[frecord[:,index]==v][:,-1] for v in values],labels=['SGD','Adam'])"
   ]
  },
  {
   "cell_type": "code",
   "execution_count": null,
   "metadata": {},
   "outputs": [],
   "source": []
  }
 ],
 "metadata": {
  "kernelspec": {
   "display_name": "Python 3",
   "language": "python",
   "name": "python3"
  },
  "language_info": {
   "codemirror_mode": {
    "name": "ipython",
    "version": 3
   },
   "file_extension": ".py",
   "mimetype": "text/x-python",
   "name": "python",
   "nbconvert_exporter": "python",
   "pygments_lexer": "ipython3",
   "version": "3.6.7"
  }
 },
 "nbformat": 4,
 "nbformat_minor": 2
}
