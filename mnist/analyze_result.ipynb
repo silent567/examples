{
 "cells": [
  {
   "cell_type": "code",
   "execution_count": 1,
   "metadata": {},
   "outputs": [],
   "source": [
    "import numpy as np\n",
    "import matplotlib.pyplot as plt\n",
    "import os"
   ]
  },
  {
   "cell_type": "code",
   "execution_count": 2,
   "metadata": {},
   "outputs": [
    {
     "name": "stdout",
     "output_type": "stream",
     "text": [
      "(311, 7)\n",
      "[1.00000000e-03 1.00000000e+00 3.16227766e+02 1.00000000e-01\n",
      " 2.00000000e+00 1.00000000e+00 9.89400000e-01]\n"
     ]
    }
   ],
   "source": [
    "def gather_record(key=''):\n",
    "    filenames = os.listdir()\n",
    "    record = []\n",
    "    for fn in filenames:\n",
    "        if '.csv' in fn and key in fn:\n",
    "            tmp_record = np.loadtxt(fn,delimiter=',')\n",
    "            tmp_record = tmp_record[tmp_record[:,-1]>0]\n",
    "            record.append(tmp_record)\n",
    "    record = np.concatenate(record,axis=0)\n",
    "    return record\n",
    "record = gather_record('record2_2018')\n",
    "print(record.shape)\n",
    "print(record[np.argmax(record[:,-1])])"
   ]
  },
  {
   "cell_type": "code",
   "execution_count": 3,
   "metadata": {},
   "outputs": [
    {
     "name": "stdout",
     "output_type": "stream",
     "text": [
      "['lr', 'norm_flag', 'gamma', 'lam', 'max_type', 'optim_type']\n",
      "{'lr': 0, 'norm_flag': 1, 'gamma': 2, 'lam': 3, 'max_type': 4, 'optim_type': 5}\n"
     ]
    }
   ],
   "source": [
    "index2name = ['lr','norm_flag','gamma','lam','max_type','optim_type']\n",
    "name2index = {n:i for i,n in enumerate(index2name)}\n",
    "print(index2name)\n",
    "print(name2index)"
   ]
  },
  {
   "cell_type": "code",
   "execution_count": 4,
   "metadata": {},
   "outputs": [
    {
     "name": "stdout",
     "output_type": "stream",
     "text": [
      "[1.00000000e-03 1.00000000e+00 3.16227766e+02 1.00000000e-01\n",
      " 2.00000000e+00 1.00000000e+00 9.89400000e-01]\n"
     ]
    }
   ],
   "source": [
    "tmp_record = record[record[:,4]==2]\n",
    "print(tmp_record[np.argmax(tmp_record[:,-1])])"
   ]
  },
  {
   "cell_type": "code",
   "execution_count": 6,
   "metadata": {},
   "outputs": [
    {
     "data": {
      "text/plain": [
       "{'whiskers': [<matplotlib.lines.Line2D at 0x7fab01a67668>,\n",
       "  <matplotlib.lines.Line2D at 0x7fab01a679b0>,\n",
       "  <matplotlib.lines.Line2D at 0x7fab01a77dd8>,\n",
       "  <matplotlib.lines.Line2D at 0x7fab01a82160>,\n",
       "  <matplotlib.lines.Line2D at 0x7fab01a8a550>,\n",
       "  <matplotlib.lines.Line2D at 0x7fab01a8a898>],\n",
       " 'caps': [<matplotlib.lines.Line2D at 0x7fab01a67cf8>,\n",
       "  <matplotlib.lines.Line2D at 0x7fab01a77080>,\n",
       "  <matplotlib.lines.Line2D at 0x7fab01a824a8>,\n",
       "  <matplotlib.lines.Line2D at 0x7fab01a827f0>,\n",
       "  <matplotlib.lines.Line2D at 0x7fab01a8abe0>,\n",
       "  <matplotlib.lines.Line2D at 0x7fab01a8af28>],\n",
       " 'boxes': [<matplotlib.lines.Line2D at 0x7fab01a67518>,\n",
       "  <matplotlib.lines.Line2D at 0x7fab01a77a90>,\n",
       "  <matplotlib.lines.Line2D at 0x7fab01a8a1d0>],\n",
       " 'medians': [<matplotlib.lines.Line2D at 0x7fab01a773c8>,\n",
       "  <matplotlib.lines.Line2D at 0x7fab01a82b38>,\n",
       "  <matplotlib.lines.Line2D at 0x7fab01a952b0>],\n",
       " 'fliers': [<matplotlib.lines.Line2D at 0x7fab01a77710>,\n",
       "  <matplotlib.lines.Line2D at 0x7fab01a82e80>,\n",
       "  <matplotlib.lines.Line2D at 0x7fab01a955f8>],\n",
       " 'means': []}"
      ]
     },
     "execution_count": 6,
     "metadata": {},
     "output_type": "execute_result"
    },
    {
     "data": {
      "image/png": "[encoded data removed]",
      "text/plain": [
       "<Figure size 432x288 with 1 Axes>"
      ]
     },
     "metadata": {
      "needs_background": "light"
     },
     "output_type": "display_data"
    }
   ],
   "source": [
    "#filtered out low accuracies\n",
    "frecord = record[record[:,-1]>=0.95]\n",
    "#box plot\n",
    "index = name2index['max_type']\n",
    "values = list(set(frecord[:,index]))\n",
    "values.sort()\n",
    "plt.boxplot([frecord[frecord[:,index]==v][:,-1] for v in values],labels=['softmax','sparsemax','gfusedmax'])"
   ]
  },
  {
   "cell_type": "code",
   "execution_count": 7,
   "metadata": {},
   "outputs": [
    {
     "name": "stdout",
     "output_type": "stream",
     "text": [
      "(155, 7)\n"
     ]
    },
    {
     "data": {
      "text/plain": [
       "{'whiskers': [<matplotlib.lines.Line2D at 0x7fab01a00400>,\n",
       "  <matplotlib.lines.Line2D at 0x7fab01a00748>,\n",
       "  <matplotlib.lines.Line2D at 0x7fab01a0bb38>,\n",
       "  <matplotlib.lines.Line2D at 0x7fab01a0be80>],\n",
       " 'caps': [<matplotlib.lines.Line2D at 0x7fab01a00a90>,\n",
       "  <matplotlib.lines.Line2D at 0x7fab01a00dd8>,\n",
       "  <matplotlib.lines.Line2D at 0x7fab01a16208>,\n",
       "  <matplotlib.lines.Line2D at 0x7fab01a16550>],\n",
       " 'boxes': [<matplotlib.lines.Line2D at 0x7fab01a002b0>,\n",
       "  <matplotlib.lines.Line2D at 0x7fab01a0b7b8>],\n",
       " 'medians': [<matplotlib.lines.Line2D at 0x7fab01a0b160>,\n",
       "  <matplotlib.lines.Line2D at 0x7fab01a16898>],\n",
       " 'fliers': [<matplotlib.lines.Line2D at 0x7fab01a0b4a8>,\n",
       "  <matplotlib.lines.Line2D at 0x7fab01a16be0>],\n",
       " 'means': []}"
      ]
     },
     "execution_count": 7,
     "metadata": {},
     "output_type": "execute_result"
    },
    {
     "data": {
      "image/png": "[encoded data removed]",
      "text/plain": [
       "<Figure size 432x288 with 1 Axes>"
      ]
     },
     "metadata": {
      "needs_background": "light"
     },
     "output_type": "display_data"
    }
   ],
   "source": [
    "#filtered out low accuracies\n",
    "frecord = record[record[:,-1]>=0.95]\n",
    "#filtered out non gfusedmax\n",
    "frecord = frecord[frecord[:,name2index['max_type']]==2]\n",
    "print(frecord.shape)\n",
    "#box plot\n",
    "index = name2index['optim_type']\n",
    "values = list(set(frecord[:,index]))\n",
    "values.sort()\n",
    "plt.boxplot([frecord[frecord[:,index]==v][:,-1] for v in values],labels=['SGD','Adam'])"
   ]
  },
  {
   "cell_type": "code",
   "execution_count": 8,
   "metadata": {},
   "outputs": [
    {
     "name": "stdout",
     "output_type": "stream",
     "text": [
      "(155, 7)\n"
     ]
    },
    {
     "data": {
      "text/plain": [
       "{'whiskers': [<matplotlib.lines.Line2D at 0x7fab019726a0>,\n",
       "  <matplotlib.lines.Line2D at 0x7fab019729e8>,\n",
       "  <matplotlib.lines.Line2D at 0x7fab01979dd8>,\n",
       "  <matplotlib.lines.Line2D at 0x7fab01988160>],\n",
       " 'caps': [<matplotlib.lines.Line2D at 0x7fab01972d30>,\n",
       "  <matplotlib.lines.Line2D at 0x7fab019790b8>,\n",
       "  <matplotlib.lines.Line2D at 0x7fab019884a8>,\n",
       "  <matplotlib.lines.Line2D at 0x7fab019887f0>],\n",
       " 'boxes': [<matplotlib.lines.Line2D at 0x7fab01972550>,\n",
       "  <matplotlib.lines.Line2D at 0x7fab01979a58>],\n",
       " 'medians': [<matplotlib.lines.Line2D at 0x7fab01979400>,\n",
       "  <matplotlib.lines.Line2D at 0x7fab01988b38>],\n",
       " 'fliers': [<matplotlib.lines.Line2D at 0x7fab01979748>,\n",
       "  <matplotlib.lines.Line2D at 0x7fab01988e80>],\n",
       " 'means': []}"
      ]
     },
     "execution_count": 8,
     "metadata": {},
     "output_type": "execute_result"
    },
    {
     "data": {
      "image/png": "[encoded data removed]",
      "text/plain": [
       "<Figure size 432x288 with 1 Axes>"
      ]
     },
     "metadata": {
      "needs_background": "light"
     },
     "output_type": "display_data"
    }
   ],
   "source": [
    "#filtered out low accuracies\n",
    "frecord = record[record[:,-1]>=0.95]\n",
    "#filtered out non gfusedmax\n",
    "frecord = frecord[frecord[:,name2index['max_type']]==2]\n",
    "print(frecord.shape)\n",
    "#box plot\n",
    "index = name2index['norm_flag']\n",
    "values = list(set(frecord[:,index]))\n",
    "values.sort()\n",
    "plt.boxplot([frecord[frecord[:,index]==v][:,-1] for v in values],labels=['no-norm','with-norm'])"
   ]
  },
  {
   "cell_type": "code",
   "execution_count": 10,
   "metadata": {},
   "outputs": [
    {
     "name": "stdout",
     "output_type": "stream",
     "text": [
      "(155, 7)\n"
     ]
    },
    {
     "data": {
      "text/plain": [
       "Text(0.5, 0, '$\\\\lambda$')"
      ]
     },
     "execution_count": 10,
     "metadata": {},
     "output_type": "execute_result"
    },
    {
     "data": {
      "image/png": "[encoded data removed]",
      "text/plain": [
       "<Figure size 432x288 with 1 Axes>"
      ]
     },
     "metadata": {
      "needs_background": "light"
     },
     "output_type": "display_data"
    }
   ],
   "source": [
    "#filtered out low accuracies\n",
    "frecord = record[record[:,-1]>=0.95]\n",
    "#filtered out non gfusedmax\n",
    "frecord = frecord[frecord[:,name2index['max_type']]==2]\n",
    "#filtered out non layer-norm\n",
    "#frecord = frecord[frecord[:,name2index['norm_flag']]==1]\n",
    "print(frecord.shape)\n",
    "#box plot\n",
    "index = name2index['lam']\n",
    "values = list(set(frecord[:,index]))\n",
    "values.sort()\n",
    "plt.boxplot([frecord[frecord[:,index]==v][:,-1] for v in values],labels=['%.2f'%v for v in values])\n",
    "plt.xlabel('$\\lambda$')"
   ]
  },
  {
   "cell_type": "code",
   "execution_count": 12,
   "metadata": {},
   "outputs": [
    {
     "name": "stdout",
     "output_type": "stream",
     "text": [
      "(155, 7) [1.00000000e-03 1.00000000e+00 3.16227766e+02 1.00000000e-01\n",
      " 2.00000000e+00 1.00000000e+00 9.89400000e-01]\n"
     ]
    },
    {
     "data": {
      "text/plain": [
       "Text(0.5, 0, '$\\\\gamma$')"
      ]
     },
     "execution_count": 12,
     "metadata": {},
     "output_type": "execute_result"
    },
    {
     "data": {
      "image/png": "[encoded data removed]",
      "text/plain": [
       "<Figure size 432x288 with 1 Axes>"
      ]
     },
     "metadata": {
      "needs_background": "light"
     },
     "output_type": "display_data"
    }
   ],
   "source": [
    "#filtered out low accuracies\n",
    "frecord = record[record[:,-1]>=0.95]\n",
    "#filtered out non gfusedmax\n",
    "frecord = frecord[frecord[:,name2index['max_type']]==2]\n",
    "#filtered out non layer-norm\n",
    "#frecord = frecord[frecord[:,name2index['norm_flag']]==1]\n",
    "print(frecord.shape,frecord[np.argmax(frecord[:,-1])])\n",
    "#box plot\n",
    "index = name2index['gamma']\n",
    "values = list(set(frecord[:,index]))\n",
    "values.sort()\n",
    "plt.boxplot([frecord[frecord[:,index]==v][:,-1] for v in values],labels=['%.2f'%v for v in values])\n",
    "plt.xlabel('$\\gamma$')"
   ]
  },
  {
   "cell_type": "code",
   "execution_count": 13,
   "metadata": {},
   "outputs": [
    {
     "name": "stdout",
     "output_type": "stream",
     "text": [
      "(75, 7) [1.00000000e-03 1.00000000e+00 3.16227766e+02 1.00000000e-01\n",
      " 2.00000000e+00 1.00000000e+00 9.89400000e-01]\n"
     ]
    },
    {
     "data": {
      "text/plain": [
       "{'whiskers': [<matplotlib.lines.Line2D at 0x7fab01550c50>,\n",
       "  <matplotlib.lines.Line2D at 0x7fab01550f98>,\n",
       "  <matplotlib.lines.Line2D at 0x7fab015633c8>,\n",
       "  <matplotlib.lines.Line2D at 0x7fab01563710>],\n",
       " 'caps': [<matplotlib.lines.Line2D at 0x7fab01559320>,\n",
       "  <matplotlib.lines.Line2D at 0x7fab01559668>,\n",
       "  <matplotlib.lines.Line2D at 0x7fab01563a58>,\n",
       "  <matplotlib.lines.Line2D at 0x7fab01563da0>],\n",
       " 'boxes': [<matplotlib.lines.Line2D at 0x7fab01550b00>,\n",
       "  <matplotlib.lines.Line2D at 0x7fab01563048>],\n",
       " 'medians': [<matplotlib.lines.Line2D at 0x7fab015599b0>,\n",
       "  <matplotlib.lines.Line2D at 0x7fab014ec128>],\n",
       " 'fliers': [<matplotlib.lines.Line2D at 0x7fab01559cf8>,\n",
       "  <matplotlib.lines.Line2D at 0x7fab014ec470>],\n",
       " 'means': []}"
      ]
     },
     "execution_count": 13,
     "metadata": {},
     "output_type": "execute_result"
    },
    {
     "data": {
      "image/png": "[encoded data removed]",
      "text/plain": [
       "<Figure size 432x288 with 1 Axes>"
      ]
     },
     "metadata": {
      "needs_background": "light"
     },
     "output_type": "display_data"
    }
   ],
   "source": [
    "#filtered out low accuracies\n",
    "frecord = record[record[:,-1]>=0.95]\n",
    "#filtered out non gfusedmax\n",
    "frecord = frecord[frecord[:,name2index['max_type']]==2]\n",
    "#filtered out non layer-norm\n",
    "frecord = frecord[frecord[:,name2index['norm_flag']]==1]\n",
    "print(frecord.shape,frecord[np.argmax(frecord[:,-1])])\n",
    "#box plot\n",
    "index = name2index['optim_type']\n",
    "values = list(set(frecord[:,index]))\n",
    "values.sort()\n",
    "plt.boxplot([frecord[frecord[:,index]==v][:,-1] for v in values],labels=['SGD','Adam'])"
   ]
  },
  {
   "cell_type": "code",
   "execution_count": null,
   "metadata": {},
   "outputs": [],
   "source": []
  }
 ],
 "metadata": {
  "kernelspec": {
   "display_name": "Python 3",
   "language": "python",
   "name": "python3"
  },
  "language_info": {
   "codemirror_mode": {
    "name": "ipython",
    "version": 3
   },
   "file_extension": ".py",
   "mimetype": "text/x-python",
   "name": "python",
   "nbconvert_exporter": "python",
   "pygments_lexer": "ipython3",
   "version": "3.6.5"
  }
 },
 "nbformat": 4,
 "nbformat_minor": 2
}
