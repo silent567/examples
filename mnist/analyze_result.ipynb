{
 "cells": [
  {
   "cell_type": "code",
   "execution_count": 2,
   "metadata": {},
   "outputs": [],
   "source": [
    "import numpy as np\n",
    "import matplotlib.pyplot as plt\n",
    "import os"
   ]
  },
  {
   "cell_type": "code",
   "execution_count": 5,
   "metadata": {},
   "outputs": [
    {
     "name": "stdout",
     "output_type": "stream",
     "text": [
      "(296, 7)\n",
      "[3.16227766e-03 0.00000000e+00 1.00000000e+01 1.00000000e-01\n",
      " 0.00000000e+00 1.00000000e+00 9.90100000e-01]\n"
     ]
    }
   ],
   "source": [
    "def gather_record(key=''):\n",
    "    filenames = os.listdir()\n",
    "    record = []\n",
    "    for fn in filenames:\n",
    "        if '.csv' in fn and key in fn:\n",
    "            tmp_record = np.loadtxt(fn,delimiter=',')\n",
    "            tmp_record = tmp_record[tmp_record[:,-1]>0]\n",
    "            record.append(tmp_record)\n",
    "    record = np.concatenate(record,axis=0)\n",
    "    return record\n",
    "record = gather_record('record_2018')\n",
    "print(record.shape)\n",
    "print(record[np.argmax(record[:,-1])])"
   ]
  },
  {
   "cell_type": "code",
   "execution_count": 6,
   "metadata": {},
   "outputs": [
    {
     "name": "stdout",
     "output_type": "stream",
     "text": [
      "['lr', 'norm_flag', 'gamma', 'lam', 'max_type', 'optim_type']\n",
      "{'lr': 0, 'norm_flag': 1, 'gamma': 2, 'lam': 3, 'max_type': 4, 'optim_type': 5}\n"
     ]
    }
   ],
   "source": [
    "index2name = ['lr','norm_flag','gamma','lam','max_type','optim_type']\n",
    "name2index = {n:i for i,n in enumerate(index2name)}\n",
    "print(index2name)\n",
    "print(name2index)"
   ]
  },
  {
   "cell_type": "code",
   "execution_count": 21,
   "metadata": {},
   "outputs": [
    {
     "name": "stdout",
     "output_type": "stream",
     "text": [
      "[3.16227766e-03 1.00000000e+00 1.00000000e+01 1.00000000e-02\n",
      " 2.00000000e+00 1.00000000e+00 9.89300000e-01]\n"
     ]
    }
   ],
   "source": [
    "tmp_record = record[record[:,4]==2]\n",
    "print(tmp_record[np.argmax(tmp_record[:,-1])])"
   ]
  },
  {
   "cell_type": "code",
   "execution_count": 22,
   "metadata": {},
   "outputs": [
    {
     "data": {
      "text/plain": [
       "{'whiskers': [<matplotlib.lines.Line2D at 0x7fb56b869a20>,\n",
       "  <matplotlib.lines.Line2D at 0x7fb56b869d68>,\n",
       "  <matplotlib.lines.Line2D at 0x7fb56b87c198>,\n",
       "  <matplotlib.lines.Line2D at 0x7fb56b87c4e0>,\n",
       "  <matplotlib.lines.Line2D at 0x7fb56b8858d0>,\n",
       "  <matplotlib.lines.Line2D at 0x7fb56b885c18>],\n",
       " 'caps': [<matplotlib.lines.Line2D at 0x7fb56b8700f0>,\n",
       "  <matplotlib.lines.Line2D at 0x7fb56b870438>,\n",
       "  <matplotlib.lines.Line2D at 0x7fb56b87c828>,\n",
       "  <matplotlib.lines.Line2D at 0x7fb56b87cb70>,\n",
       "  <matplotlib.lines.Line2D at 0x7fb56b885f60>,\n",
       "  <matplotlib.lines.Line2D at 0x7fb56b88f2e8>],\n",
       " 'boxes': [<matplotlib.lines.Line2D at 0x7fb56b8698d0>,\n",
       "  <matplotlib.lines.Line2D at 0x7fb56b870dd8>,\n",
       "  <matplotlib.lines.Line2D at 0x7fb56b885550>],\n",
       " 'medians': [<matplotlib.lines.Line2D at 0x7fb56b870780>,\n",
       "  <matplotlib.lines.Line2D at 0x7fb56b87ceb8>,\n",
       "  <matplotlib.lines.Line2D at 0x7fb56b88f630>],\n",
       " 'fliers': [<matplotlib.lines.Line2D at 0x7fb56b870ac8>,\n",
       "  <matplotlib.lines.Line2D at 0x7fb56b885240>,\n",
       "  <matplotlib.lines.Line2D at 0x7fb56b88f978>],\n",
       " 'means': []}"
      ]
     },
     "execution_count": 22,
     "metadata": {},
     "output_type": "execute_result"
    },
    {
     "data": {
      "image/png": "[encoded data removed]",
      "text/plain": [
       "<Figure size 432x288 with 1 Axes>"
      ]
     },
     "metadata": {
      "needs_background": "light"
     },
     "output_type": "display_data"
    }
   ],
   "source": [
    "#filtered out low accuracies\n",
    "frecord = record[record[:,-1]>=0.95]\n",
    "#box plot\n",
    "index = name2index['max_type']\n",
    "values = list(set(frecord[:,index]))\n",
    "values.sort()\n",
    "plt.boxplot([frecord[frecord[:,index]==v][:,-1] for v in values],labels=['softmax','sparsemax','gfusedmax'])"
   ]
  },
  {
   "cell_type": "code",
   "execution_count": 24,
   "metadata": {},
   "outputs": [
    {
     "name": "stdout",
     "output_type": "stream",
     "text": [
      "(64, 7)\n"
     ]
    },
    {
     "data": {
      "text/plain": [
       "{'whiskers': [<matplotlib.lines.Line2D at 0x7fb56b8a43c8>,\n",
       "  <matplotlib.lines.Line2D at 0x7fb56b8a4a58>,\n",
       "  <matplotlib.lines.Line2D at 0x7fb56b8a29e8>,\n",
       "  <matplotlib.lines.Line2D at 0x7fb56b8a2be0>],\n",
       " 'caps': [<matplotlib.lines.Line2D at 0x7fb56b850198>,\n",
       "  <matplotlib.lines.Line2D at 0x7fb56b94e9e8>,\n",
       "  <matplotlib.lines.Line2D at 0x7fb56baa5b00>,\n",
       "  <matplotlib.lines.Line2D at 0x7fb56bb65908>],\n",
       " 'boxes': [<matplotlib.lines.Line2D at 0x7fb56b8a4128>,\n",
       "  <matplotlib.lines.Line2D at 0x7fb56b8ad1d0>],\n",
       " 'medians': [<matplotlib.lines.Line2D at 0x7fb56b8adc50>,\n",
       "  <matplotlib.lines.Line2D at 0x7fb56bb65da0>],\n",
       " 'fliers': [<matplotlib.lines.Line2D at 0x7fb56b8ad550>,\n",
       "  <matplotlib.lines.Line2D at 0x7fb56bdda6a0>],\n",
       " 'means': []}"
      ]
     },
     "execution_count": 24,
     "metadata": {},
     "output_type": "execute_result"
    },
    {
     "data": {
      "image/png": "[encoded data removed]",
      "text/plain": [
       "<Figure size 432x288 with 1 Axes>"
      ]
     },
     "metadata": {
      "needs_background": "light"
     },
     "output_type": "display_data"
    }
   ],
   "source": [
    "#filtered out low accuracies\n",
    "frecord = record[record[:,-1]>=0.95]\n",
    "#filtered out non gfusedmax\n",
    "frecord = frecord[frecord[:,name2index['max_type']]==2]\n",
    "print(frecord.shape)\n",
    "#box plot\n",
    "index = name2index['optim_type']\n",
    "values = list(set(frecord[:,index]))\n",
    "values.sort()\n",
    "plt.boxplot([frecord[frecord[:,index]==v][:,-1] for v in values],labels=['SGD','Adam'])"
   ]
  },
  {
   "cell_type": "code",
   "execution_count": 23,
   "metadata": {},
   "outputs": [
    {
     "name": "stdout",
     "output_type": "stream",
     "text": [
      "(64, 7)\n"
     ]
    },
    {
     "data": {
      "text/plain": [
       "{'whiskers': [<matplotlib.lines.Line2D at 0x7fb56b7e33c8>,\n",
       "  <matplotlib.lines.Line2D at 0x7fb56b7e3710>,\n",
       "  <matplotlib.lines.Line2D at 0x7fb56b7eeb00>,\n",
       "  <matplotlib.lines.Line2D at 0x7fb56b7eee48>],\n",
       " 'caps': [<matplotlib.lines.Line2D at 0x7fb56b7e3a58>,\n",
       "  <matplotlib.lines.Line2D at 0x7fb56b7e3da0>,\n",
       "  <matplotlib.lines.Line2D at 0x7fb56b7f71d0>,\n",
       "  <matplotlib.lines.Line2D at 0x7fb56b7f7518>],\n",
       " 'boxes': [<matplotlib.lines.Line2D at 0x7fb56b7e3278>,\n",
       "  <matplotlib.lines.Line2D at 0x7fb56b7ee780>],\n",
       " 'medians': [<matplotlib.lines.Line2D at 0x7fb56b7ee128>,\n",
       "  <matplotlib.lines.Line2D at 0x7fb56b7f7860>],\n",
       " 'fliers': [<matplotlib.lines.Line2D at 0x7fb56b7ee470>,\n",
       "  <matplotlib.lines.Line2D at 0x7fb56b7f7ba8>],\n",
       " 'means': []}"
      ]
     },
     "execution_count": 23,
     "metadata": {},
     "output_type": "execute_result"
    },
    {
     "data": {
      "image/png": "[encoded data removed]",
      "text/plain": [
       "<Figure size 432x288 with 1 Axes>"
      ]
     },
     "metadata": {
      "needs_background": "light"
     },
     "output_type": "display_data"
    }
   ],
   "source": [
    "#filtered out low accuracies\n",
    "frecord = record[record[:,-1]>=0.95]\n",
    "#filtered out non gfusedmax\n",
    "frecord = frecord[frecord[:,name2index['max_type']]==2]\n",
    "print(frecord.shape)\n",
    "#box plot\n",
    "index = name2index['norm_flag']\n",
    "values = list(set(frecord[:,index]))\n",
    "values.sort()\n",
    "plt.boxplot([frecord[frecord[:,index]==v][:,-1] for v in values],labels=['no-norm','with-norm'])"
   ]
  },
  {
   "cell_type": "code",
   "execution_count": 27,
   "metadata": {},
   "outputs": [
    {
     "name": "stdout",
     "output_type": "stream",
     "text": [
      "(31, 7)\n"
     ]
    },
    {
     "data": {
      "text/plain": [
       "Text(0.5, 0, '$\\\\lambda$')"
      ]
     },
     "execution_count": 27,
     "metadata": {},
     "output_type": "execute_result"
    },
    {
     "data": {
      "image/png": "[encoded data removed]",
      "text/plain": [
       "<Figure size 432x288 with 1 Axes>"
      ]
     },
     "metadata": {
      "needs_background": "light"
     },
     "output_type": "display_data"
    }
   ],
   "source": [
    "#filtered out low accuracies\n",
    "frecord = record[record[:,-1]>=0.95]\n",
    "#filtered out non gfusedmax\n",
    "frecord = frecord[frecord[:,name2index['max_type']]==2]\n",
    "#filtered out non layer-norm\n",
    "frecord = frecord[frecord[:,name2index['norm_flag']]==1]\n",
    "print(frecord.shape)\n",
    "#box plot\n",
    "index = name2index['lam']\n",
    "values = list(set(frecord[:,index]))\n",
    "values.sort()\n",
    "plt.boxplot([frecord[frecord[:,index]==v][:,-1] for v in values],labels=['%.2f'%v for v in values])\n",
    "plt.xlabel('$\\lambda$')"
   ]
  },
  {
   "cell_type": "code",
   "execution_count": 19,
   "metadata": {},
   "outputs": [
    {
     "name": "stdout",
     "output_type": "stream",
     "text": [
      "(90, 7) [3.16227766e-03 1.00000000e+00 1.00000000e+01 1.00000000e-02\n",
      " 2.00000000e+00 1.00000000e+00 9.89300000e-01]\n"
     ]
    },
    {
     "data": {
      "text/plain": [
       "Text(0.5, 0, '$\\\\gamma$')"
      ]
     },
     "execution_count": 19,
     "metadata": {},
     "output_type": "execute_result"
    },
    {
     "data": {
      "image/png": "[encoded data removed]",
      "text/plain": [
       "<Figure size 432x288 with 1 Axes>"
      ]
     },
     "metadata": {
      "needs_background": "light"
     },
     "output_type": "display_data"
    }
   ],
   "source": [
    "#filtered out low accuracies\n",
    "frecord = record[record[:,-1]>=0.0]\n",
    "#filtered out non gfusedmax\n",
    "frecord = frecord[frecord[:,name2index['max_type']]==2]\n",
    "#filtered out non layer-norm\n",
    "#frecord = frecord[frecord[:,name2index['norm_flag']]==1]\n",
    "print(frecord.shape,frecord[np.argmax(frecord[:,-1])])\n",
    "#box plot\n",
    "index = name2index['gamma']\n",
    "values = list(set(frecord[:,index]))\n",
    "values.sort()\n",
    "plt.boxplot([frecord[frecord[:,index]==v][:,-1] for v in values],labels=['%.2f'%v for v in values])\n",
    "plt.xlabel('$\\gamma$')"
   ]
  },
  {
   "cell_type": "code",
   "execution_count": 23,
   "metadata": {},
   "outputs": [
    {
     "name": "stdout",
     "output_type": "stream",
     "text": [
      "(17, 7) [ 0.01    1.     10.      1.      2.      0.      0.9895]\n"
     ]
    },
    {
     "data": {
      "text/plain": [
       "{'whiskers': [<matplotlib.lines.Line2D at 0x7f6b11a7a860>,\n",
       "  <matplotlib.lines.Line2D at 0x7f6b11a7aba8>,\n",
       "  <matplotlib.lines.Line2D at 0x7f6b11a02f98>,\n",
       "  <matplotlib.lines.Line2D at 0x7f6b11a0d320>],\n",
       " 'caps': [<matplotlib.lines.Line2D at 0x7f6b11a7aef0>,\n",
       "  <matplotlib.lines.Line2D at 0x7f6b11a02278>,\n",
       "  <matplotlib.lines.Line2D at 0x7f6b11a0d668>,\n",
       "  <matplotlib.lines.Line2D at 0x7f6b11a0d9b0>],\n",
       " 'boxes': [<matplotlib.lines.Line2D at 0x7f6b11a7a710>,\n",
       "  <matplotlib.lines.Line2D at 0x7f6b11a02c18>],\n",
       " 'medians': [<matplotlib.lines.Line2D at 0x7f6b11a025c0>,\n",
       "  <matplotlib.lines.Line2D at 0x7f6b11a0dcf8>],\n",
       " 'fliers': [<matplotlib.lines.Line2D at 0x7f6b11a02908>,\n",
       "  <matplotlib.lines.Line2D at 0x7f6b11a17080>],\n",
       " 'means': []}"
      ]
     },
     "execution_count": 23,
     "metadata": {},
     "output_type": "execute_result"
    },
    {
     "data": {
      "image/png": "[encoded data removed]",
      "text/plain": [
       "<Figure size 432x288 with 1 Axes>"
      ]
     },
     "metadata": {
      "needs_background": "light"
     },
     "output_type": "display_data"
    }
   ],
   "source": [
    "#filtered out low accuracies\n",
    "frecord = record[record[:,-1]>=0.95]\n",
    "#filtered out non gfusedmax\n",
    "frecord = frecord[frecord[:,name2index['max_type']]==2]\n",
    "#filtered out non layer-norm\n",
    "frecord = frecord[frecord[:,name2index['norm_flag']]==1]\n",
    "print(frecord.shape,frecord[np.argmax(frecord[:,-1])])\n",
    "#box plot\n",
    "index = name2index['optim_type']\n",
    "values = list(set(frecord[:,index]))\n",
    "values.sort()\n",
    "plt.boxplot([frecord[frecord[:,index]==v][:,-1] for v in values],labels=['SGD','Adam'])"
   ]
  },
  {
   "cell_type": "code",
   "execution_count": null,
   "metadata": {},
   "outputs": [],
   "source": []
  }
 ],
 "metadata": {
  "kernelspec": {
   "display_name": "Python 3",
   "language": "python",
   "name": "python3"
  },
  "language_info": {
   "codemirror_mode": {
    "name": "ipython",
    "version": 3
   },
   "file_extension": ".py",
   "mimetype": "text/x-python",
   "name": "python",
   "nbconvert_exporter": "python",
   "pygments_lexer": "ipython3",
   "version": "3.6.7"
  }
 },
 "nbformat": 4,
 "nbformat_minor": 2
}
