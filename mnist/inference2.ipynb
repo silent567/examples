{
 "cells": [
  {
   "cell_type": "code",
   "execution_count": 2,
   "metadata": {},
   "outputs": [],
   "source": [
    "import torch\n",
    "import numpy as np\n",
    "import matplotlib.pyplot as plt\n",
    "from my_main2 import Net,test\n",
    "from torchvision import datasets, transforms"
   ]
  },
  {
   "cell_type": "code",
   "execution_count": 4,
   "metadata": {},
   "outputs": [],
   "source": [
    "model_file = 'mnist2_98.4_0.0100_SGD_gfusedmax_1_1.00_10.00.pt'\n",
    "params = model_file.strip('.pt').split('_')\n",
    "_,acc,lr,optim_type,max_type,norm_flag,lam,gamma = \\\n",
    "    params[0],float(params[1]),float(params[2]),params[3],params[4],bool(int(params[5])),float(params[6]),float(params[7])\n",
    "model = Net(max_type,norm_flag,lam,gamma)\n",
    "model.load_state_dict(torch.load(model_file,map_location='cpu'))"
   ]
  },
  {
   "cell_type": "code",
   "execution_count": 6,
   "metadata": {},
   "outputs": [
    {
     "name": "stdout",
     "output_type": "stream",
     "text": [
      "Downloading http://yann.lecun.com/exdb/mnist/train-images-idx3-ubyte.gz\n",
      "Downloading http://yann.lecun.com/exdb/mnist/train-labels-idx1-ubyte.gz\n",
      "Downloading http://yann.lecun.com/exdb/mnist/t10k-images-idx3-ubyte.gz\n",
      "Downloading http://yann.lecun.com/exdb/mnist/t10k-labels-idx1-ubyte.gz\n",
      "Processing...\n",
      "Done!\n",
      "\n",
      "Test set: Average loss: 0.0475, Accuracy: 9843/10000 (98%)\n",
      "\n",
      "0.9843\n"
     ]
    }
   ],
   "source": [
    "model.eval()\n",
    "use_cuda = torch.cuda.is_available()\n",
    "use_cuda = False\n",
    "device = torch.device(\"cuda\" if use_cuda else \"cpu\")\n",
    "model = model.to(device)\n",
    "kwargs = {'num_workers': 1, 'pin_memory': True} if use_cuda else {}\n",
    "test_loader = torch.utils.data.DataLoader(\n",
    "        datasets.MNIST('../data', download=True, train=False, transform=transforms.Compose([\n",
    "                           transforms.ToTensor(),\n",
    "                           transforms.Normalize((0.1307,), (0.3081,))\n",
    "                       ])),\n",
    "        batch_size=1000, shuffle=True, **kwargs)\n",
    "test_acc = test(None, model, device, test_loader)\n",
    "print(test_acc)"
   ]
  },
  {
   "cell_type": "code",
   "execution_count": 7,
   "metadata": {},
   "outputs": [
    {
     "name": "stdout",
     "output_type": "stream",
     "text": [
      "<class 'torch.Tensor'> torch.Size([10000, 28, 28])\n"
     ]
    }
   ],
   "source": [
    "print(type(test_loader.dataset.test_data),test_loader.dataset.test_data.size())\n",
    "test_data = test_loader.dataset.test_data"
   ]
  },
  {
   "cell_type": "code",
   "execution_count": 8,
   "metadata": {},
   "outputs": [],
   "source": [
    "import torch.nn as nn\n",
    "import torch.nn.functional as F\n",
    "def forward_att(att,x):\n",
    "    N,C,H,W = x.size()\n",
    "    x = x.reshape([N,H,W,C])\n",
    "    proj_x = att.proj_func(x)\n",
    "    score_x = att.score_func(x)\n",
    "    scores = torch.reshape(score_x,[N,-1,1])\n",
    "    projs = torch.reshape(proj_x,[N,-1,att.output_size])\n",
    "    weights = att.mapping_func(att.score_norm(scores),dim=-2)\n",
    "    output = torch.sum(projs * weights,dim=-2)\n",
    "    return proj_x,score_x,weights.reshape(score_x.size()),output\n",
    "def forward(model,x):\n",
    "    h1 = F.relu(model.conv1(x))\n",
    "    h1_pooled = F.max_pool2d(h1, 2, 2)\n",
    "    h2 = F.relu(model.conv2(h1_pooled))\n",
    "    h2_pooled = F.max_pool2d(h2, 2, 2)\n",
    "    h3 = F.relu(model.attention_pool(h2_pooled).view(-1,500))\n",
    "    h4 = model.fc2(h3)\n",
    "    return h1,h1_pooled,h2,h2_pooled,h3,h4\n",
    "norm_image = lambda x: (x.type(torch.float)/255.-0.1307)/0.3081"
   ]
  },
  {
   "cell_type": "code",
   "execution_count": 9,
   "metadata": {},
   "outputs": [
    {
     "data": {
      "image/png": "[encoded data removed]",
      "text/plain": [
       "<Figure size 432x288 with 1 Axes>"
      ]
     },
     "metadata": {
      "needs_background": "light"
     },
     "output_type": "display_data"
    },
    {
     "data": {
      "image/png": "[encoded data removed]",
      "text/plain": [
       "<Figure size 432x288 with 1 Axes>"
      ]
     },
     "metadata": {
      "needs_background": "light"
     },
     "output_type": "display_data"
    },
    {
     "data": {
      "image/png": "[encoded data removed]",
      "text/plain": [
       "<Figure size 432x288 with 1 Axes>"
      ]
     },
     "metadata": {
      "needs_background": "light"
     },
     "output_type": "display_data"
    },
    {
     "data": {
      "image/png": "[encoded data removed]",
      "text/plain": [
       "<Figure size 432x288 with 1 Axes>"
      ]
     },
     "metadata": {
      "needs_background": "light"
     },
     "output_type": "display_data"
    },
    {
     "name": "stdout",
     "output_type": "stream",
     "text": [
      "torch.Size([1, 4, 4, 500]) torch.Size([1, 4, 4, 1]) torch.Size([1, 4, 4, 1]) torch.Size([1, 500])\n"
     ]
    },
    {
     "data": {
      "image/png": "[encoded data removed]",
      "text/plain": [
       "<Figure size 432x288 with 1 Axes>"
      ]
     },
     "metadata": {
      "needs_background": "light"
     },
     "output_type": "display_data"
    },
    {
     "data": {
      "image/png": "[encoded data removed]",
      "text/plain": [
       "<Figure size 432x288 with 1 Axes>"
      ]
     },
     "metadata": {
      "needs_background": "light"
     },
     "output_type": "display_data"
    }
   ],
   "source": [
    "with torch.no_grad():\n",
    "    index = np.random.choice(test_data.size()[0])\n",
    "    plt.imshow(test_data[index])\n",
    "    plt.show()\n",
    "    h1,h1_pooled,h2,h2_pooled,h3,h4 = forward(model,norm_image(test_data[index]).unsqueeze_(0).unsqueeze(0))\n",
    "    plt.imshow(h1_pooled[0,10])\n",
    "    plt.show()\n",
    "    plt.imshow(h2_pooled[0,10])\n",
    "    plt.show()\n",
    "    plt.imshow(h4)\n",
    "    plt.show()\n",
    "    proj,score,weights,att_out = forward_att(model.attention_pool,h2_pooled)\n",
    "    print(proj.shape,score.shape,weights.shape,att_out.shape)\n",
    "    plt.imshow(score[0,:,:,0])\n",
    "    plt.show()\n",
    "    plt.imshow(weights[0,:,:,0])\n",
    "    plt.show()"
   ]
  },
  {
   "cell_type": "code",
   "execution_count": 13,
   "metadata": {},
   "outputs": [
    {
     "data": {
      "image/png": "[encoded data removed]",
      "text/plain": [
       "<Figure size 432x288 with 16 Axes>"
      ]
     },
     "metadata": {
      "needs_background": "light"
     },
     "output_type": "display_data"
    }
   ],
   "source": [
    "samples = 4\n",
    "sample_per_row = 4\n",
    "plt.axis('off')\n",
    "with torch.no_grad():\n",
    "    for s in range(samples):\n",
    "        index = np.random.choice(test_data.size()[0])\n",
    "        plt.subplot(np.ceil(samples*4/sample_per_row),sample_per_row,4*s+1)\n",
    "        plt.imshow(test_data[index])\n",
    "        h1,h1_pooled,h2,h2_pooled,h3,h4 = forward(model,norm_image(test_data[index]).unsqueeze_(0).unsqueeze(0))\n",
    "        plt.subplot(np.ceil(samples*4/sample_per_row),sample_per_row,4*s+2)\n",
    "        plt.imshow(h2_pooled[0,20,:,:])\n",
    "        proj,score,weights,att_out = forward_att(model.attention_pool,h2_pooled)\n",
    "        plt.subplot(np.ceil(samples*4/sample_per_row),sample_per_row,4*s+3)\n",
    "        plt.imshow(score[0,:,:,0])\n",
    "        plt.subplot(np.ceil(samples*4/sample_per_row),sample_per_row,4*s+4)\n",
    "        plt.imshow(weights[0,:,:,0])\n",
    "plt.show()"
   ]
  },
  {
   "cell_type": "code",
   "execution_count": 16,
   "metadata": {},
   "outputs": [
    {
     "name": "stdout",
     "output_type": "stream",
     "text": [
      "[[ 238.83179   162.43933   118.91108   118.7856  ]\n",
      " [ 184.40924   152.71709    90.28653    93.73606 ]\n",
      " [1108.428     137.04001    91.04849    93.82153 ]\n",
      " [4051.8384   3167.1382     94.686066   95.89013 ]]\n"
     ]
    }
   ],
   "source": [
    "with torch.no_grad():\n",
    "    h1,h1_pooled,h2,h2_pooled,h3,h4 = forward(model,norm_image(test_data).unsqueeze_(1))\n",
    "    proj,score,weights,att_out = forward_att(model.attention_pool,h2_pooled)\n",
    "    all_weights = np.sum(np.abs(weights[:,:,:,0].numpy()),axis=0)\n",
    "print(all_weights)"
   ]
  },
  {
   "cell_type": "code",
   "execution_count": 17,
   "metadata": {},
   "outputs": [
    {
     "data": {
      "text/plain": [
       "10000.007"
      ]
     },
     "execution_count": 17,
     "metadata": {},
     "output_type": "execute_result"
    }
   ],
   "source": [
    "np.sum(all_weights)"
   ]
  },
  {
   "cell_type": "code",
   "execution_count": 23,
   "metadata": {},
   "outputs": [
    {
     "data": {
      "text/plain": [
       "10000"
      ]
     },
     "execution_count": 23,
     "metadata": {},
     "output_type": "execute_result"
    }
   ],
   "source": [
    "len(test_data)"
   ]
  },
  {
   "cell_type": "code",
   "execution_count": 24,
   "metadata": {},
   "outputs": [
    {
     "name": "stdout",
     "output_type": "stream",
     "text": [
      "(10000, 4, 4)\n",
      "[3.8399372 4.526389  4.582712  ... 4.021746  4.1189194 4.401153 ]\n"
     ]
    }
   ],
   "source": [
    "weights = weights.squeeze().numpy()\n",
    "print(weights.shape)\n",
    "print(np.sum(weights,axis=(1,2)))"
   ]
  },
  {
   "cell_type": "code",
   "execution_count": 37,
   "metadata": {},
   "outputs": [
    {
     "name": "stdout",
     "output_type": "stream",
     "text": [
      "ConvAddAttention(\n",
      "  (gfusedmax_module): Gfusedmax()\n",
      "  (proj_func): Linear(in_features=50, out_features=500, bias=True)\n",
      "  (score_func): Linear(in_features=50, out_features=1, bias=True)\n",
      "  (score_norm): LayerNorm(torch.Size([16, 1]), eps=1e-05, elementwise_affine=True)\n",
      ")\n",
      "tensor([[[0.2087],\n",
      "         [0.2087],\n",
      "         [0.2087],\n",
      "         [0.2087],\n",
      "         [0.2087],\n",
      "         [0.2087],\n",
      "         [0.2087],\n",
      "         [0.2087],\n",
      "         [0.9464],\n",
      "         [0.2087],\n",
      "         [0.2087],\n",
      "         [0.2087],\n",
      "         [1.9366],\n",
      "         [0.0000],\n",
      "         [0.2087],\n",
      "         [0.2087]]])\n"
     ]
    }
   ],
   "source": [
    "print(model.attention_pool)\n",
    "print(model.attention_pool.mapping_func(score[5:6].reshape(1,16,1),-2))"
   ]
  },
  {
   "cell_type": "code",
   "execution_count": 40,
   "metadata": {},
   "outputs": [
    {
     "name": "stdout",
     "output_type": "stream",
     "text": [
      "tensor([[0., 1., 0., 0., 1., 0., 0., 0., 0., 0., 0., 0., 0., 0., 0., 0.],\n",
      "        [1., 0., 1., 0., 0., 1., 0., 0., 0., 0., 0., 0., 0., 0., 0., 0.],\n",
      "        [0., 1., 0., 1., 0., 0., 1., 0., 0., 0., 0., 0., 0., 0., 0., 0.],\n",
      "        [0., 0., 1., 0., 0., 0., 0., 1., 0., 0., 0., 0., 0., 0., 0., 0.],\n",
      "        [1., 0., 0., 0., 0., 1., 0., 0., 0., 0., 0., 0., 0., 0., 0., 0.],\n",
      "        [0., 1., 0., 0., 1., 0., 1., 0., 0., 1., 0., 0., 0., 0., 0., 0.],\n",
      "        [0., 0., 1., 0., 0., 1., 0., 1., 0., 0., 1., 0., 0., 0., 0., 0.],\n",
      "        [0., 0., 0., 1., 0., 0., 1., 0., 0., 0., 0., 1., 0., 0., 0., 0.],\n",
      "        [0., 0., 0., 0., 0., 0., 0., 0., 0., 0., 0., 0., 0., 0., 0., 0.],\n",
      "        [0., 0., 0., 0., 0., 1., 0., 0., 0., 0., 1., 0., 0., 0., 0., 0.],\n",
      "        [0., 0., 0., 0., 0., 0., 1., 0., 0., 1., 0., 1., 0., 0., 1., 0.],\n",
      "        [0., 0., 0., 0., 0., 0., 0., 1., 0., 0., 1., 0., 0., 0., 0., 1.],\n",
      "        [0., 0., 0., 0., 0., 0., 0., 0., 0., 0., 0., 0., 0., 0., 0., 0.],\n",
      "        [0., 0., 0., 0., 0., 0., 0., 0., 0., 0., 0., 0., 0., 0., 0., 0.],\n",
      "        [0., 0., 0., 0., 0., 0., 0., 0., 0., 0., 1., 0., 0., 0., 0., 1.],\n",
      "        [0., 0., 0., 0., 0., 0., 0., 0., 0., 0., 0., 1., 0., 0., 1., 0.]],\n",
      "       dtype=torch.float64)\n"
     ]
    }
   ],
   "source": [
    "print(model.attention_pool.input_A[0,:,:,0])"
   ]
  },
  {
   "cell_type": "code",
   "execution_count": 42,
   "metadata": {},
   "outputs": [
    {
     "name": "stdout",
     "output_type": "stream",
     "text": [
      "tensor([[[0.2087],\n",
      "         [0.2087],\n",
      "         [0.2087],\n",
      "         [0.2087],\n",
      "         [0.2087],\n",
      "         [0.2087],\n",
      "         [0.2087],\n",
      "         [0.2087],\n",
      "         [0.9464],\n",
      "         [0.2087],\n",
      "         [0.2087],\n",
      "         [0.2087],\n",
      "         [1.9366],\n",
      "         [0.0000],\n",
      "         [0.2087],\n",
      "         [0.2087]]])\n"
     ]
    }
   ],
   "source": [
    "print(model.attention_pool.gfusedmax_module(score[5:6].reshape(1,16,1),model.attention_pool.input_A,dim=-2))"
   ]
  },
  {
   "cell_type": "code",
   "execution_count": 45,
   "metadata": {},
   "outputs": [
    {
     "name": "stdout",
     "output_type": "stream",
     "text": [
      "torch.Size([1, 16, 1]) torch.Size([1, 16, 1]) torch.Size([1, 16, 1])\n"
     ]
    }
   ],
   "source": [
    "tmp_score = score[5:6].reshape(1,16,1)\n",
    "fused = model.attention_pool.gfusedmax_module.gfusedlasso_func(tmp_score,model.attention_pool.input_A,dim=-2)\n",
    "sparse = model.attention_pool.gfusedmax_module.sparsemax_func(fused,dim=-2)\n",
    "print(tmp_score.size(),fused.size(),sparse.size())"
   ]
  },
  {
   "cell_type": "code",
   "execution_count": 55,
   "metadata": {},
   "outputs": [
    {
     "name": "stdout",
     "output_type": "stream",
     "text": [
      "tensor([[[0.2087],\n",
      "         [0.2087],\n",
      "         [0.2087],\n",
      "         [0.2087],\n",
      "         [0.2087],\n",
      "         [0.2087],\n",
      "         [0.2087],\n",
      "         [0.2087],\n",
      "         [0.9464],\n",
      "         [0.2087],\n",
      "         [0.2087],\n",
      "         [0.2087],\n",
      "         [1.9366],\n",
      "         [0.0000],\n",
      "         [0.2087],\n",
      "         [0.2087]]])\n",
      "tensor([ 0.1761,  0.1761,  0.1761,  0.1761,  0.1761,  0.1761,  0.1761,  0.1761,\n",
      "         0.9138,  0.1761,  0.1761,  0.1761,  1.9040, -0.7119,  0.1761,  0.1761])\n",
      "tensor([0.2087, 0.2087, 0.2087, 0.2087, 0.2087, 0.2087, 0.2087, 0.2087, 0.9464,\n",
      "        0.2087, 0.2087, 0.2087, 1.9366, 0.0000, 0.2087, 0.2087])\n",
      "[0.05022943 0.05022939 0.0502294  0.05022942 0.0502295  0.05022937\n",
      " 0.05022936 0.05022926 0.12400005 0.0502293  0.05022912 0.05022902\n",
      " 0.22301966 0.         0.05022887 0.05022887]\n"
     ]
    }
   ],
   "source": [
    "from torch_mapping import torch_sparsemax, sparsemax\n",
    "print(torch_sparsemax().apply(fused,-2,10.0))\n",
    "print(fused[0,:,0])\n",
    "print(torch_sparsemax().apply(fused[0,:,0],-1,10.0))\n",
    "print(sparsemax(fused[0,:,0].numpy(),10.0))"
   ]
  },
  {
   "cell_type": "code",
   "execution_count": null,
   "metadata": {},
   "outputs": [],
   "source": []
  }
 ],
 "metadata": {
  "kernelspec": {
   "display_name": "Python 3",
   "language": "python",
   "name": "python3"
  },
  "language_info": {
   "codemirror_mode": {
    "name": "ipython",
    "version": 3
   },
   "file_extension": ".py",
   "mimetype": "text/x-python",
   "name": "python",
   "nbconvert_exporter": "python",
   "pygments_lexer": "ipython3",
   "version": "3.6.7"
  }
 },
 "nbformat": 4,
 "nbformat_minor": 2
}
