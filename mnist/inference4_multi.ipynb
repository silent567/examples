{
 "cells": [
  {
   "cell_type": "code",
   "execution_count": 12,
   "metadata": {},
   "outputs": [],
   "source": [
    "import torch, os\n",
    "import numpy as np\n",
    "import matplotlib.pyplot as plt\n",
    "from my_multi_main4 import Net,test\n",
    "from torchvision import datasets, transforms"
   ]
  },
  {
   "cell_type": "code",
   "execution_count": 13,
   "metadata": {},
   "outputs": [],
   "source": [
    "model_file = 'mnist4_multi_97.4_0.0100_SGD_sparsemax_1_1.00_10.00_2.pt'\n",
    "params = model_file.strip('.pt').split('_')\n",
    "_,_,acc,lr,optim_type,max_type,norm_flag,lam,gamma,head_cnt = \\\n",
    "    params[0],params[1],float(params[2]),float(params[3]),params[4],\\\n",
    "    params[5],bool(int(params[6])),float(params[7]),float(params[8]),int(params[9])\n",
    "model = Net(max_type,norm_flag,lam,gamma,head_cnt)\n",
    "model.load_state_dict(torch.load(model_file,map_location='cpu'))"
   ]
  },
  {
   "cell_type": "code",
   "execution_count": 14,
   "metadata": {},
   "outputs": [],
   "source": [
    "model.eval()\n",
    "use_cuda = torch.cuda.is_available()\n",
    "use_cuda = False\n",
    "device = torch.device(\"cuda\" if use_cuda else \"cpu\")\n",
    "model = model.to(device)\n",
    "kwargs = {'num_workers': 1, 'pin_memory': True} if use_cuda else {}\n",
    "test_loader = torch.utils.data.DataLoader(\n",
    "        datasets.MNIST('../data', download=True, train=False, transform=transforms.Compose([\n",
    "                           transforms.ToTensor(),\n",
    "                           transforms.Normalize((0.1307,), (0.3081,))\n",
    "                       ])),\n",
    "        batch_size=1000, shuffle=True, **kwargs)\n",
    "#test_acc = test(None, model, device, test_loader)\n",
    "#print(test_acc)"
   ]
  },
  {
   "cell_type": "code",
   "execution_count": 15,
   "metadata": {},
   "outputs": [
    {
     "name": "stdout",
     "output_type": "stream",
     "text": [
      "<class 'torch.Tensor'> torch.Size([10000, 28, 28])\n"
     ]
    }
   ],
   "source": [
    "print(type(test_loader.dataset.test_data),test_loader.dataset.test_data.size())\n",
    "test_data = test_loader.dataset.test_data"
   ]
  },
  {
   "cell_type": "code",
   "execution_count": 16,
   "metadata": {},
   "outputs": [],
   "source": [
    "import torch.nn as nn\n",
    "import torch.nn.functional as F\n",
    "def forward_att(att,x):\n",
    "    N,C,H,W = x.size()\n",
    "    x = torch.transpose(x,1,3) #[N,W,H,C]\n",
    "    proj_x = att.proj_func(x) #[N,W,H,C']\n",
    "    score_x = att.score_func(x) #[N,W,H,1]\n",
    "    scores = torch.reshape(score_x,[N,-1,1]) #[N,W*H,1]\n",
    "    projs = torch.reshape(proj_x,[N,-1,att.output_size]) #[N,W*H,C']\n",
    "    weights = att.mapping_func(att.score_norm(scores),dim=-2) #[N,W*H,1]\n",
    "    output = torch.sum(projs * weights,dim=-2) #[N,1]\n",
    "    return proj_x,score_x,weights.reshape(score_x.size()).transpose(1,2),output\n",
    "def forward(model,x):\n",
    "    h1 = F.relu(model.conv1(x))\n",
    "    h1_pooled = F.max_pool2d(h1, 2, 2)\n",
    "    h2 = F.relu(model.conv2(h1_pooled))\n",
    "    # h2_pooled = F.max_pool2d(h2, 2, 2)\n",
    "    att_out = torch.cat([att(h2) for att in model.attention_pool],dim=1).view(-1,500)\n",
    "    h3 = F.relu(att_out)\n",
    "    h4 = model.fc2(h3)\n",
    "    return h1,h1_pooled,h2,att_out,h3,h4\n",
    "def weight_image(weight):\n",
    "    image_size = 28\n",
    "    recp_size = 8\n",
    "    weight_size = 11\n",
    "    stride = int((image_size-recp_size)/(weight_size-1))\n",
    "    \n",
    "    output = np.zeros([image_size,image_size])\n",
    "    for i in range(weight_size):\n",
    "        for j in range(weight_size):\n",
    "            output[i*stride:(i*stride+recp_size),j*stride:(j*stride+recp_size)] += weight[i,j]\n",
    "    return output\n",
    "normalization = lambda x: (x-np.min(x))/(np.max(x)-np.min(x))\n",
    "def weight_on_image(weight,image):\n",
    "    output = np.zeros(weight.shape+(3,))\n",
    "    output[:,:,2] = normalization(image)\n",
    "    output[:,:,1] = normalization(weight)\n",
    "    output = 1 - output\n",
    "    return output\n",
    "norm_image = lambda x: (x.type(torch.float)/255.-0.1307)/0.3081"
   ]
  },
  {
   "cell_type": "code",
   "execution_count": 17,
   "metadata": {
    "scrolled": true
   },
   "outputs": [
    {
     "data": {
      "image/png": "[encoded data removed]",
      "text/plain": [
       "<Figure size 432x288 with 1 Axes>"
      ]
     },
     "metadata": {
      "needs_background": "light"
     },
     "output_type": "display_data"
    },
    {
     "data": {
      "image/png": "[encoded data removed]",
      "text/plain": [
       "<Figure size 432x288 with 1 Axes>"
      ]
     },
     "metadata": {
      "needs_background": "light"
     },
     "output_type": "display_data"
    },
    {
     "data": {
      "image/png": "[encoded data removed]",
      "text/plain": [
       "<Figure size 432x288 with 1 Axes>"
      ]
     },
     "metadata": {
      "needs_background": "light"
     },
     "output_type": "display_data"
    },
    {
     "name": "stdout",
     "output_type": "stream",
     "text": [
      "torch.Size([1, 11, 11, 250]) torch.Size([1, 11, 11, 1]) torch.Size([1, 11, 11, 1]) torch.Size([1, 250])\n"
     ]
    },
    {
     "data": {
      "image/png": "[encoded data removed]",
      "text/plain": [
       "<Figure size 432x288 with 1 Axes>"
      ]
     },
     "metadata": {
      "needs_background": "light"
     },
     "output_type": "display_data"
    },
    {
     "data": {
      "image/png": "[encoded data removed]",
      "text/plain": [
       "<Figure size 432x288 with 1 Axes>"
      ]
     },
     "metadata": {
      "needs_background": "light"
     },
     "output_type": "display_data"
    },
    {
     "name": "stdout",
     "output_type": "stream",
     "text": [
      "torch.Size([1, 11, 11, 250]) torch.Size([1, 11, 11, 1]) torch.Size([1, 11, 11, 1]) torch.Size([1, 250])\n"
     ]
    },
    {
     "data": {
      "image/png": "[encoded data removed]",
      "text/plain": [
       "<Figure size 432x288 with 1 Axes>"
      ]
     },
     "metadata": {
      "needs_background": "light"
     },
     "output_type": "display_data"
    },
    {
     "data": {
      "image/png": "[encoded data removed]",
      "text/plain": [
       "<Figure size 432x288 with 1 Axes>"
      ]
     },
     "metadata": {
      "needs_background": "light"
     },
     "output_type": "display_data"
    }
   ],
   "source": [
    "with torch.no_grad():\n",
    "    index = np.random.choice(test_data.size()[0])\n",
    "    plt.imshow(test_data[index])\n",
    "    plt.show()\n",
    "    h1,h1_pooled,h2,att_out,h3,h4 = forward(model,norm_image(test_data[index]).unsqueeze_(0).unsqueeze(0))\n",
    "    plt.imshow(h1_pooled[0,10])\n",
    "    plt.show()\n",
    "    #plt.imshow(h2_pooled[0,10])\n",
    "    #plt.show()\n",
    "    plt.imshow(h4)\n",
    "    plt.show()\n",
    "    proj0,score0,weights0,att_out0 = forward_att(model.attention_pool[0],h2)\n",
    "    print(proj0.shape,score0.shape,weights0.shape,att_out0.shape)\n",
    "    plt.imshow(score0[0,:,:,0])\n",
    "    plt.show()\n",
    "    plt.imshow(weights0[0,:,:,0])\n",
    "    plt.show()\n",
    "    proj1,score1,weights1,att_out1 = forward_att(model.attention_pool[1],h2)\n",
    "    print(proj1.shape,score1.shape,weights1.shape,att_out1.shape)\n",
    "    plt.imshow(score1[0,:,:,0])\n",
    "    plt.show()\n",
    "    plt.imshow(weights1[0,:,:,0])\n",
    "    plt.show()"
   ]
  },
  {
   "cell_type": "code",
   "execution_count": 18,
   "metadata": {
    "scrolled": false
   },
   "outputs": [
    {
     "data": {
      "image/png": "[encoded data removed]",
      "text/plain": [
       "<Figure size 432x288 with 1 Axes>"
      ]
     },
     "metadata": {},
     "output_type": "display_data"
    }
   ],
   "source": [
    "samples = 1\n",
    "sample_per_row = 4\n",
    "weight_sample_path = './weight_samples4_multi_%.1f'%(acc,)\n",
    "if not os.path.exists(weight_sample_path):\n",
    "    os.mkdir(weight_sample_path)\n",
    "plt.axis('off')\n",
    "plt.gcf().set_facecolor(\"white\")\n",
    "for _ in range(300):\n",
    "    fig=plt.figure(figsize=(20, samples*10), dpi= 80)\n",
    "    with torch.no_grad():\n",
    "        for s in range(samples):\n",
    "            index = np.random.choice(test_data.size()[0])\n",
    "            h1,h1_pooled,h2,att_out,h3,h4 = forward(model,norm_image(test_data[index]).unsqueeze_(0).unsqueeze(0))\n",
    "            proj0,score0,weights0,att_out0 = forward_att(model.attention_pool[0],h2)\n",
    "            proj1,score1,weights1,att_out1 = forward_att(model.attention_pool[1],h2)\n",
    "            image_weighted0 = weight_image(weights0[0,:,:,0].numpy()) \n",
    "            image_weighted1 = weight_image(weights1[0,:,:,0].numpy()) \n",
    "            image_with_weighted0 = weight_on_image(image_weighted0,test_data[index].numpy()) \n",
    "            image_with_weighted1 = weight_on_image(image_weighted1,test_data[index].numpy()) \n",
    "\n",
    "            plt.subplot(2*np.ceil(samples*4/sample_per_row),sample_per_row,8*s+1)\n",
    "            plt.imshow(test_data[index])\n",
    "            plt.subplot(2*np.ceil(samples*4/sample_per_row),sample_per_row,8*s+2)\n",
    "            plt.imshow(image_with_weighted0)\n",
    "            plt.subplot(2*np.ceil(samples*4/sample_per_row),sample_per_row,8*s+3)\n",
    "            plt.imshow(score0[0,:,:,0])\n",
    "            plt.subplot(2*np.ceil(samples*4/sample_per_row),sample_per_row,8*s+4)\n",
    "            plt.imshow(weights0[0,:,:,0])\n",
    "            plt.subplot(2*np.ceil(samples*4/sample_per_row),sample_per_row,8*s+5)\n",
    "            plt.imshow(torch.norm(h2,dim=1)[0])\n",
    "            plt.subplot(2*np.ceil(samples*4/sample_per_row),sample_per_row,8*s+6)\n",
    "            plt.imshow(image_with_weighted1)\n",
    "            plt.subplot(2*np.ceil(samples*4/sample_per_row),sample_per_row,8*s+7)\n",
    "            plt.imshow(score1[0,:,:,0])\n",
    "            plt.subplot(2*np.ceil(samples*4/sample_per_row),sample_per_row,8*s+8)\n",
    "            plt.imshow(weights1[0,:,:,0])\n",
    "    plt.savefig(os.path.join(weight_sample_path,'%d.png'%index))\n",
    "    #plt.show()\n",
    "    plt.close()"
   ]
  },
  {
   "cell_type": "code",
   "execution_count": 21,
   "metadata": {},
   "outputs": [
    {
     "name": "stdout",
     "output_type": "stream",
     "text": [
      "torch.Size([10000, 1, 28, 28])\n",
      "torch.Size([10000, 20, 26, 26])\n",
      "torch.Size([10000, 20, 13, 13])\n"
     ]
    }
   ],
   "source": [
    "h1,h1_pooled,h2,att_out,h3,h4 = forward(model,norm_image(test_data).unsqueeze_(1))\n",
    "proj0,score0,weights0,att_out0 = forward_att(model.attention_pool[0],h2)\n",
    "proj1,score1,weights1,att_out1 = forward_att(model.attention_pool[1],h2)"
   ]
  },
  {
   "cell_type": "code",
   "execution_count": 22,
   "metadata": {},
   "outputs": [
    {
     "name": "stdout",
     "output_type": "stream",
     "text": [
      "[[0.0000000e+00 0.0000000e+00 0.0000000e+00 0.0000000e+00 0.0000000e+00\n",
      "  0.0000000e+00 0.0000000e+00 0.0000000e+00 0.0000000e+00 0.0000000e+00\n",
      "  0.0000000e+00]\n",
      " [0.0000000e+00 0.0000000e+00 0.0000000e+00 0.0000000e+00 0.0000000e+00\n",
      "  0.0000000e+00 0.0000000e+00 0.0000000e+00 0.0000000e+00 0.0000000e+00\n",
      "  0.0000000e+00]\n",
      " [0.0000000e+00 0.0000000e+00 0.0000000e+00 0.0000000e+00 0.0000000e+00\n",
      "  0.0000000e+00 0.0000000e+00 0.0000000e+00 0.0000000e+00 0.0000000e+00\n",
      "  0.0000000e+00]\n",
      " [0.0000000e+00 0.0000000e+00 0.0000000e+00 0.0000000e+00 0.0000000e+00\n",
      "  0.0000000e+00 0.0000000e+00 0.0000000e+00 0.0000000e+00 0.0000000e+00\n",
      "  0.0000000e+00]\n",
      " [2.8486988e+01 3.1264154e+01 0.0000000e+00 0.0000000e+00 0.0000000e+00\n",
      "  0.0000000e+00 0.0000000e+00 0.0000000e+00 0.0000000e+00 0.0000000e+00\n",
      "  0.0000000e+00]\n",
      " [0.0000000e+00 0.0000000e+00 0.0000000e+00 0.0000000e+00 0.0000000e+00\n",
      "  0.0000000e+00 0.0000000e+00 0.0000000e+00 0.0000000e+00 0.0000000e+00\n",
      "  0.0000000e+00]\n",
      " [0.0000000e+00 0.0000000e+00 0.0000000e+00 0.0000000e+00 0.0000000e+00\n",
      "  0.0000000e+00 0.0000000e+00 0.0000000e+00 0.0000000e+00 0.0000000e+00\n",
      "  0.0000000e+00]\n",
      " [0.0000000e+00 0.0000000e+00 0.0000000e+00 0.0000000e+00 0.0000000e+00\n",
      "  0.0000000e+00 0.0000000e+00 0.0000000e+00 0.0000000e+00 0.0000000e+00\n",
      "  0.0000000e+00]\n",
      " [0.0000000e+00 1.2002769e+01 9.9047412e+03 1.4321526e+01 0.0000000e+00\n",
      "  0.0000000e+00 0.0000000e+00 0.0000000e+00 0.0000000e+00 0.0000000e+00\n",
      "  0.0000000e+00]\n",
      " [0.0000000e+00 0.0000000e+00 0.0000000e+00 0.0000000e+00 0.0000000e+00\n",
      "  6.6551576e+00 2.4746065e+00 5.1976919e-02 0.0000000e+00 0.0000000e+00\n",
      "  0.0000000e+00]\n",
      " [0.0000000e+00 0.0000000e+00 0.0000000e+00 0.0000000e+00 0.0000000e+00\n",
      "  0.0000000e+00 0.0000000e+00 0.0000000e+00 0.0000000e+00 0.0000000e+00\n",
      "  0.0000000e+00]]\n",
      "[[0.0000000e+00 0.0000000e+00 0.0000000e+00 0.0000000e+00 0.0000000e+00\n",
      "  0.0000000e+00 0.0000000e+00 0.0000000e+00 0.0000000e+00 0.0000000e+00\n",
      "  0.0000000e+00]\n",
      " [0.0000000e+00 0.0000000e+00 0.0000000e+00 0.0000000e+00 0.0000000e+00\n",
      "  0.0000000e+00 0.0000000e+00 0.0000000e+00 0.0000000e+00 0.0000000e+00\n",
      "  0.0000000e+00]\n",
      " [0.0000000e+00 0.0000000e+00 0.0000000e+00 0.0000000e+00 0.0000000e+00\n",
      "  0.0000000e+00 0.0000000e+00 0.0000000e+00 0.0000000e+00 0.0000000e+00\n",
      "  0.0000000e+00]\n",
      " [0.0000000e+00 0.0000000e+00 0.0000000e+00 0.0000000e+00 0.0000000e+00\n",
      "  0.0000000e+00 0.0000000e+00 0.0000000e+00 0.0000000e+00 0.0000000e+00\n",
      "  0.0000000e+00]\n",
      " [0.0000000e+00 1.1259248e+01 0.0000000e+00 0.0000000e+00 0.0000000e+00\n",
      "  0.0000000e+00 0.0000000e+00 0.0000000e+00 0.0000000e+00 0.0000000e+00\n",
      "  0.0000000e+00]\n",
      " [0.0000000e+00 0.0000000e+00 0.0000000e+00 0.0000000e+00 0.0000000e+00\n",
      "  0.0000000e+00 0.0000000e+00 0.0000000e+00 0.0000000e+00 0.0000000e+00\n",
      "  0.0000000e+00]\n",
      " [0.0000000e+00 0.0000000e+00 0.0000000e+00 0.0000000e+00 0.0000000e+00\n",
      "  0.0000000e+00 0.0000000e+00 0.0000000e+00 0.0000000e+00 0.0000000e+00\n",
      "  0.0000000e+00]\n",
      " [0.0000000e+00 0.0000000e+00 0.0000000e+00 0.0000000e+00 0.0000000e+00\n",
      "  0.0000000e+00 0.0000000e+00 0.0000000e+00 0.0000000e+00 0.0000000e+00\n",
      "  0.0000000e+00]\n",
      " [0.0000000e+00 2.7579269e+00 7.6278937e+02 9.2231924e+03 0.0000000e+00\n",
      "  0.0000000e+00 0.0000000e+00 0.0000000e+00 0.0000000e+00 0.0000000e+00\n",
      "  0.0000000e+00]\n",
      " [0.0000000e+00 0.0000000e+00 0.0000000e+00 0.0000000e+00 0.0000000e+00\n",
      "  0.0000000e+00 0.0000000e+00 0.0000000e+00 0.0000000e+00 0.0000000e+00\n",
      "  0.0000000e+00]\n",
      " [0.0000000e+00 0.0000000e+00 0.0000000e+00 0.0000000e+00 0.0000000e+00\n",
      "  0.0000000e+00 0.0000000e+00 0.0000000e+00 0.0000000e+00 0.0000000e+00\n",
      "  0.0000000e+00]]\n"
     ]
    }
   ],
   "source": [
    "\n",
    "all_weights0 = np.sum(np.abs(weights0[:,:,:,0].detach().numpy()),axis=0)\n",
    "all_weights1 = np.sum(np.abs(weights1[:,:,:,0].detach().numpy()),axis=0)\n",
    "print(all_weights0)\n",
    "print(all_weights1)"
   ]
  },
  {
   "cell_type": "code",
   "execution_count": 23,
   "metadata": {},
   "outputs": [
    {
     "name": "stdout",
     "output_type": "stream",
     "text": [
      "9999.998\n"
     ]
    },
    {
     "data": {
      "image/png": "[encoded data removed]",
      "text/plain": [
       "<Figure size 432x288 with 1 Axes>"
      ]
     },
     "metadata": {
      "needs_background": "light"
     },
     "output_type": "display_data"
    },
    {
     "name": "stdout",
     "output_type": "stream",
     "text": [
      "9999.998\n"
     ]
    },
    {
     "data": {
      "image/png": "[encoded data removed]",
      "text/plain": [
       "<Figure size 432x288 with 1 Axes>"
      ]
     },
     "metadata": {
      "needs_background": "light"
     },
     "output_type": "display_data"
    }
   ],
   "source": [
    "plt.imshow(all_weights0)\n",
    "print(np.sum(all_weights0))\n",
    "plt.show()\n",
    "plt.imshow(all_weights1)\n",
    "print(np.sum(all_weights1))\n",
    "plt.show()"
   ]
  },
  {
   "cell_type": "code",
   "execution_count": 17,
   "metadata": {},
   "outputs": [
    {
     "name": "stdout",
     "output_type": "stream",
     "text": [
      "Parameter containing:\n",
      "tensor([[ 0.0259,  0.0196,  0.1739,  0.3516,  0.1423,  0.1193,  0.0345,  0.0601,\n",
      "         -0.0649, -0.1866, -0.0762, -0.0583,  0.0006,  0.1007,  0.1254,  0.0709,\n",
      "          0.0838, -0.0288, -0.0225, -0.1167, -0.0998, -0.3004,  0.0921,  0.0255,\n",
      "         -0.0574,  0.1923,  0.1228,  0.0990,  0.1585, -0.0825, -0.1961, -0.2049,\n",
      "         -0.1997, -0.0413,  0.0010,  0.0600,  0.0742,  0.0347,  0.2910,  0.0530,\n",
      "         -0.0098,  0.1114, -0.1778, -0.1760,  0.1524,  0.0663,  0.1419,  0.1114,\n",
      "          0.3288,  0.3620]], requires_grad=True)\n",
      "Parameter containing:\n",
      "tensor([0.0944], requires_grad=True)\n",
      "Parameter containing:\n",
      "tensor([[ 1.4664e-01, -2.8211e-01, -3.4660e-01, -2.1407e-01, -2.3563e-01,\n",
      "         -2.6445e-01,  5.2811e-02,  2.6337e-01,  2.4964e-01,  1.1613e-01,\n",
      "          3.1548e-01,  1.1720e-01,  1.8196e-02,  1.3270e-01, -4.4715e-02,\n",
      "          4.2360e-04,  6.1598e-02,  1.5462e-01,  4.0172e-01,  1.8132e-01,\n",
      "          3.9537e-02,  4.6302e-01,  2.1578e-01,  3.1848e-02,  1.8022e-01,\n",
      "         -1.8974e-01,  1.5047e-02,  1.4360e-01,  3.9998e-01,  4.4606e-01,\n",
      "          2.2136e-01,  3.2156e-02,  2.6871e-01,  3.3845e-01,  4.3142e-02,\n",
      "         -1.6471e-01, -4.0731e-01, -7.2728e-02,  3.2483e-01,  1.7576e-01,\n",
      "          4.4543e-01,  4.7867e-01,  6.8122e-02,  2.4142e-01,  1.5665e-01,\n",
      "          1.2082e-01, -1.7570e-01, -3.9639e-01, -1.2292e-01,  1.0141e-01]],\n",
      "       requires_grad=True)\n",
      "Parameter containing:\n",
      "tensor([0.1067], requires_grad=True)\n"
     ]
    }
   ],
   "source": [
    "print(model.attention_pool[0].score_func.weight)\n",
    "print(model.attention_pool[0].score_func.bias)\n",
    "print(model.attention_pool[1].score_func.weight)\n",
    "print(model.attention_pool[1].score_func.bias)"
   ]
  },
  {
   "cell_type": "code",
   "execution_count": 31,
   "metadata": {},
   "outputs": [
    {
     "data": {
      "image/png": "[encoded data removed]",
      "text/plain": [
       "<Figure size 432x288 with 1 Axes>"
      ]
     },
     "metadata": {
      "needs_background": "light"
     },
     "output_type": "display_data"
    },
    {
     "data": {
      "image/png": "[encoded data removed]",
      "text/plain": [
       "<Figure size 432x288 with 1 Axes>"
      ]
     },
     "metadata": {
      "needs_background": "light"
     },
     "output_type": "display_data"
    }
   ],
   "source": [
    "plt.imshow(h2[0,np.random.choice(50)])\n",
    "plt.show()\n",
    "plt.imshow(test_data[index])\n",
    "plt.show()"
   ]
  },
  {
   "cell_type": "code",
   "execution_count": 33,
   "metadata": {},
   "outputs": [
    {
     "data": {
      "image/png": "[encoded data removed]",
      "text/plain": [
       "<Figure size 432x288 with 1 Axes>"
      ]
     },
     "metadata": {
      "needs_background": "light"
     },
     "output_type": "display_data"
    },
    {
     "data": {
      "image/png": "[encoded data removed]",
      "text/plain": [
       "<Figure size 432x288 with 1 Axes>"
      ]
     },
     "metadata": {
      "needs_background": "light"
     },
     "output_type": "display_data"
    }
   ],
   "source": [
    "h2_trans = torch.transpose(h2,1,3)\n",
    "scores_trans = model.attention_pool[0].score_func(h2_trans)\n",
    "scores = torch.transpose(scores_trans,1,3)\n",
    "plt.imshow(scores[0,0].detach().numpy())\n",
    "plt.show()\n",
    "scores_flat = scores.reshape(-1)\n",
    "weights_flat = model.attention_pool[0].mapping_func(scores_flat,-1)\n",
    "weights = weights_flat.reshape(scores.size())\n",
    "plt.imshow(weights[0,0].detach().numpy())\n",
    "plt.show()"
   ]
  },
  {
   "cell_type": "code",
   "execution_count": null,
   "metadata": {},
   "outputs": [],
   "source": []
  }
 ],
 "metadata": {
  "kernelspec": {
   "display_name": "Python 3",
   "language": "python",
   "name": "python3"
  },
  "language_info": {
   "codemirror_mode": {
    "name": "ipython",
    "version": 3
   },
   "file_extension": ".py",
   "mimetype": "text/x-python",
   "name": "python",
   "nbconvert_exporter": "python",
   "pygments_lexer": "ipython3",
   "version": "3.6.5"
  }
 },
 "nbformat": 4,
 "nbformat_minor": 2
}
